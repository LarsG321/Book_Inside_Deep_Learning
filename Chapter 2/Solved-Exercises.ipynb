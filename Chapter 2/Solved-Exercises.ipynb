{
 "cells": [
  {
   "cell_type": "code",
   "execution_count": 10,
   "metadata": {},
   "outputs": [],
   "source": [
    "from idlmam import train_network\n",
    "import torch.nn as nn\n",
    "from torch.optim import SGD\n",
    "import numpy as np\n",
    "import seaborn as sns\n",
    "from sklearn.preprocessing import StandardScaler\n"
   ]
  },
  {
   "cell_type": "markdown",
   "metadata": {},
   "source": [
    "## Exercise 1\n",
    "In this exercise it should be checked if scaling the data, in particular the targets $y$, lead to an improved performance."
   ]
  },
  {
   "cell_type": "code",
   "execution_count": 12,
   "metadata": {},
   "outputs": [
    {
     "ename": "ValueError",
     "evalue": "Expected 2D array, got 1D array instead:\narray=[-0.48250479  2.21157851  0.97793555  1.12817071 -1.07597372  1.44663709\n  2.13766313  2.20735057  0.88425754  2.6741618   1.64616917  3.28759478\n  3.34185824  3.38238206  2.54658512  3.1859854   2.9550993   3.05909652\n  4.27382675  3.77122084  3.51635256  3.83423961  4.3191415   3.21252802\n  1.6747955   2.83183044  2.89825736  2.52212169  3.60967312  3.94297224\n  2.92622386  2.34299338  3.20911108  4.05211426  2.32072709  2.60949148\n  3.19713367  3.87360969  3.53913341  2.69954691  4.48956675  2.37761602\n  2.97840259  2.84924676  3.26025499  3.55797752  4.28751204  6.1264715\n  2.99723769  2.49563726  2.49251282  1.6017761   1.44153068  1.44734027\n  1.31241189  3.66996171  4.59331585  2.47669825  2.26149497  1.24918452\n  1.84676942  2.45643409  1.50702266  2.83407435  2.21616102  3.4390514\n  2.98081394  2.64449836  5.0357628   4.17993507  3.97887123  2.25658999\n  2.53170688  3.40068024  3.06497294  3.420872    4.62399003  5.21054931\n  5.02447649  5.60400396  4.95999143  4.24496749  4.82394212  5.98838189\n  6.2372437   6.55940811  9.09355118  6.10547366  7.20925054  8.74490927\n  8.16282463  8.03701182  7.82961073 10.75800138  9.40892923  7.69168655\n  8.50534958 10.41882676  8.79874515 10.4061599   9.49530611 10.064167\n  9.79013947 11.23999174 11.13113536 10.09792781 10.21544651  9.77919759\n  9.45120954 10.75362865 10.46291595 10.22625867  9.68232402  9.66093484\n  9.45253158 10.70204926 12.60505049  9.67798654  8.67196778 10.74388413\n  9.02471121  9.43959805 10.11507457  9.74970103 10.05261521  9.65273289\n 10.44911491  7.92510196  8.81500651  9.59298373  8.93014998 11.00769765\n  7.72381674  9.41289637  8.67442135  9.05741323  7.37000894  7.79577677\n  9.30460188  8.9410159   9.20848486  8.74986576  9.18395856  7.43554411\n  9.65750653  9.37044082  7.66207295  7.5238327   9.75277713  8.52422765\n  8.54376693  9.9253886   8.71023376  8.26582721 11.66480332  9.38215369\n 10.66249843 10.94307296 11.25425738 12.03985296 11.42141191 10.45812276\n 10.61469463 11.78554753 10.4727111  13.37053737 13.64702458 12.00698621\n 12.06778393 13.22889134 12.60233872 14.27783643 12.07517832 13.4218463\n 14.1382998  15.49799184 13.96805222 14.57981008 15.57738116 15.17418724\n 15.12582494 14.44390284 15.1925817  16.22321711 17.1509238  15.8612862\n 15.65722463 16.63018666 16.56519712 15.44125188 16.21966664 18.54088032\n 16.02812665 15.96305464 17.20849505 16.5135877  16.8150942  18.55954254\n 16.03081459 15.22836919 14.96255662 14.84694923 17.59544081 16.50570417\n 14.55269966 15.39243336 16.74033548 15.62014895 15.74982718 15.12147486\n 16.68080021 15.44028891 15.97347431 16.21746968 16.75560514 16.64610714\n 14.3881341  13.42722884 15.83311455 15.53882572 16.049094   15.61646281\n 14.15777301 15.55495368 15.10776727 14.65908602 15.85848807 14.61879427\n 15.65136486 15.77963179 15.53661986 15.72453015 14.04841054 15.11580612\n 14.38515715 16.30272981 15.14612329 16.08535342 16.61271935 16.27487645\n 17.68763042 17.5599235  16.96927773 17.23578382 17.37461631 17.07600433\n 17.86663311 15.64706153 20.15151856 18.17183601 20.09381025 17.90686538\n 20.01639603 19.42107127 18.25789472 18.69481527 18.9559466  20.48011297\n 23.02968046 22.03328171 22.86548995 21.82223349 19.73181562 19.93441228\n 20.36155685 21.06687343 22.79226546 22.1798064  23.10310655 24.47590158\n 21.58071577 23.09560776 23.02285379 22.47199339 22.04263762 22.70545213\n 22.1090364  23.38948061 21.6208322  22.06158678 24.11693403 23.53744745\n 22.09547838 21.48856004 23.07583652 21.72485464 21.37151158 24.81521\n 22.42542782 21.42065528 23.07388685 22.04187934 21.6543454  22.11053493\n 20.39099683 22.44971569 21.35377467 20.09466638 21.55102422 22.14958803\n 22.66865326 21.1096112  21.03955287 20.59049432 20.226718   20.18252756\n 22.14602017 21.66746708 21.83493911 21.82791539 22.58763512 21.08121144\n 20.87826934 20.52700806 22.87333196 21.66776863 20.04410563 21.37777829\n 21.27747925 22.97991429 21.79388791 21.99836818 22.17760987 22.15166417\n 21.62067813 24.06284882 21.82368175 25.4490453  23.94536214 24.14499956\n 24.47356548 24.12124757 25.95174925 26.75748606 26.36392771 26.04834137\n 26.91501645 25.32262552 27.00835024 26.50286042 26.00346076 24.7614362\n 27.73362525 25.79601923 26.49384559 28.17189555 27.87116704 25.95161748\n 26.76017077 27.32127764 27.19983483 29.75632122 27.87772804 26.01321228\n 27.97588208 29.0107883  28.10830278 27.18042394 28.92327557 29.16679668\n 29.80057776 29.88639572 28.25758276 29.00904411 28.97812243 26.48489461\n 27.4194544  28.60034577 29.42349265 27.80682088 27.76795074 30.0184212\n 28.1761343  29.13571941 28.08358242 28.07136485 28.96494327 29.30761535\n 27.41894336 28.79971089 26.79460676 29.32889513 26.50944472 27.69714852\n 28.80935786 27.11389006 29.16757408 28.21754482 29.14189201 27.80210011\n 26.95530978 28.8493379  27.85282    27.33899796 28.14093509 28.26658454\n 27.18911052 27.67771499 28.18930354 28.83230053].\nReshape your data either using array.reshape(-1, 1) if your data has a single feature or array.reshape(1, -1) if it contains a single sample.",
     "output_type": "error",
     "traceback": [
      "\u001b[1;31m---------------------------------------------------------------------------\u001b[0m",
      "\u001b[1;31mValueError\u001b[0m                                Traceback (most recent call last)",
      "\u001b[1;32mc:\\Users\\LarsG\\OneDrive\\Uni\\Master\\Semester_5\\Book_Inside_Deep_Learning\\Chapter 2\\Solved-Exercises.ipynb Cell 3\u001b[0m in \u001b[0;36m<cell line: 5>\u001b[1;34m()\u001b[0m\n\u001b[0;32m      <a href='vscode-notebook-cell:/c%3A/Users/LarsG/OneDrive/Uni/Master/Semester_5/Book_Inside_Deep_Learning/Chapter%202/Solved-Exercises.ipynb#W1sZmlsZQ%3D%3D?line=2'>3</a>\u001b[0m y \u001b[39m=\u001b[39m X \u001b[39m+\u001b[39m np\u001b[39m.\u001b[39msin(X)\u001b[39m*\u001b[39m\u001b[39m2\u001b[39m \u001b[39m+\u001b[39m np\u001b[39m.\u001b[39mrandom\u001b[39m.\u001b[39mnormal(size\u001b[39m=\u001b[39mX\u001b[39m.\u001b[39mshape)\n\u001b[0;32m      <a href='vscode-notebook-cell:/c%3A/Users/LarsG/OneDrive/Uni/Master/Semester_5/Book_Inside_Deep_Learning/Chapter%202/Solved-Exercises.ipynb#W1sZmlsZQ%3D%3D?line=3'>4</a>\u001b[0m scaler \u001b[39m=\u001b[39m StandardScaler()\n\u001b[1;32m----> <a href='vscode-notebook-cell:/c%3A/Users/LarsG/OneDrive/Uni/Master/Semester_5/Book_Inside_Deep_Learning/Chapter%202/Solved-Exercises.ipynb#W1sZmlsZQ%3D%3D?line=4'>5</a>\u001b[0m y_scaled \u001b[39m=\u001b[39m scaler\u001b[39m.\u001b[39;49mfit_transform(y)\n\u001b[0;32m      <a href='vscode-notebook-cell:/c%3A/Users/LarsG/OneDrive/Uni/Master/Semester_5/Book_Inside_Deep_Learning/Chapter%202/Solved-Exercises.ipynb#W1sZmlsZQ%3D%3D?line=5'>6</a>\u001b[0m sns\u001b[39m.\u001b[39mscatterplot(x\u001b[39m=\u001b[39mX,y\u001b[39m=\u001b[39my)\n\u001b[0;32m      <a href='vscode-notebook-cell:/c%3A/Users/LarsG/OneDrive/Uni/Master/Semester_5/Book_Inside_Deep_Learning/Chapter%202/Solved-Exercises.ipynb#W1sZmlsZQ%3D%3D?line=6'>7</a>\u001b[0m sns\u001b[39m.\u001b[39mscatterplot(x\u001b[39m=\u001b[39mX,y\u001b[39m=\u001b[39my_scaled)\n",
      "File \u001b[1;32mc:\\Users\\LarsG\\anaconda3\\lib\\site-packages\\sklearn\\base.py:867\u001b[0m, in \u001b[0;36mTransformerMixin.fit_transform\u001b[1;34m(self, X, y, **fit_params)\u001b[0m\n\u001b[0;32m    863\u001b[0m \u001b[39m# non-optimized default implementation; override when a better\u001b[39;00m\n\u001b[0;32m    864\u001b[0m \u001b[39m# method is possible for a given clustering algorithm\u001b[39;00m\n\u001b[0;32m    865\u001b[0m \u001b[39mif\u001b[39;00m y \u001b[39mis\u001b[39;00m \u001b[39mNone\u001b[39;00m:\n\u001b[0;32m    866\u001b[0m     \u001b[39m# fit method of arity 1 (unsupervised transformation)\u001b[39;00m\n\u001b[1;32m--> 867\u001b[0m     \u001b[39mreturn\u001b[39;00m \u001b[39mself\u001b[39m\u001b[39m.\u001b[39mfit(X, \u001b[39m*\u001b[39m\u001b[39m*\u001b[39mfit_params)\u001b[39m.\u001b[39mtransform(X)\n\u001b[0;32m    868\u001b[0m \u001b[39melse\u001b[39;00m:\n\u001b[0;32m    869\u001b[0m     \u001b[39m# fit method of arity 2 (supervised transformation)\u001b[39;00m\n\u001b[0;32m    870\u001b[0m     \u001b[39mreturn\u001b[39;00m \u001b[39mself\u001b[39m\u001b[39m.\u001b[39mfit(X, y, \u001b[39m*\u001b[39m\u001b[39m*\u001b[39mfit_params)\u001b[39m.\u001b[39mtransform(X)\n",
      "File \u001b[1;32mc:\\Users\\LarsG\\anaconda3\\lib\\site-packages\\sklearn\\preprocessing\\_data.py:809\u001b[0m, in \u001b[0;36mStandardScaler.fit\u001b[1;34m(self, X, y, sample_weight)\u001b[0m\n\u001b[0;32m    807\u001b[0m \u001b[39m# Reset internal state before fitting\u001b[39;00m\n\u001b[0;32m    808\u001b[0m \u001b[39mself\u001b[39m\u001b[39m.\u001b[39m_reset()\n\u001b[1;32m--> 809\u001b[0m \u001b[39mreturn\u001b[39;00m \u001b[39mself\u001b[39;49m\u001b[39m.\u001b[39;49mpartial_fit(X, y, sample_weight)\n",
      "File \u001b[1;32mc:\\Users\\LarsG\\anaconda3\\lib\\site-packages\\sklearn\\preprocessing\\_data.py:844\u001b[0m, in \u001b[0;36mStandardScaler.partial_fit\u001b[1;34m(self, X, y, sample_weight)\u001b[0m\n\u001b[0;32m    812\u001b[0m \u001b[39m\"\"\"Online computation of mean and std on X for later scaling.\u001b[39;00m\n\u001b[0;32m    813\u001b[0m \n\u001b[0;32m    814\u001b[0m \u001b[39mAll of X is processed as a single batch. This is intended for cases\u001b[39;00m\n\u001b[1;32m   (...)\u001b[0m\n\u001b[0;32m    841\u001b[0m \u001b[39m    Fitted scaler.\u001b[39;00m\n\u001b[0;32m    842\u001b[0m \u001b[39m\"\"\"\u001b[39;00m\n\u001b[0;32m    843\u001b[0m first_call \u001b[39m=\u001b[39m \u001b[39mnot\u001b[39;00m \u001b[39mhasattr\u001b[39m(\u001b[39mself\u001b[39m, \u001b[39m\"\u001b[39m\u001b[39mn_samples_seen_\u001b[39m\u001b[39m\"\u001b[39m)\n\u001b[1;32m--> 844\u001b[0m X \u001b[39m=\u001b[39m \u001b[39mself\u001b[39;49m\u001b[39m.\u001b[39;49m_validate_data(\n\u001b[0;32m    845\u001b[0m     X,\n\u001b[0;32m    846\u001b[0m     accept_sparse\u001b[39m=\u001b[39;49m(\u001b[39m\"\u001b[39;49m\u001b[39mcsr\u001b[39;49m\u001b[39m\"\u001b[39;49m, \u001b[39m\"\u001b[39;49m\u001b[39mcsc\u001b[39;49m\u001b[39m\"\u001b[39;49m),\n\u001b[0;32m    847\u001b[0m     dtype\u001b[39m=\u001b[39;49mFLOAT_DTYPES,\n\u001b[0;32m    848\u001b[0m     force_all_finite\u001b[39m=\u001b[39;49m\u001b[39m\"\u001b[39;49m\u001b[39mallow-nan\u001b[39;49m\u001b[39m\"\u001b[39;49m,\n\u001b[0;32m    849\u001b[0m     reset\u001b[39m=\u001b[39;49mfirst_call,\n\u001b[0;32m    850\u001b[0m )\n\u001b[0;32m    851\u001b[0m n_features \u001b[39m=\u001b[39m X\u001b[39m.\u001b[39mshape[\u001b[39m1\u001b[39m]\n\u001b[0;32m    853\u001b[0m \u001b[39mif\u001b[39;00m sample_weight \u001b[39mis\u001b[39;00m \u001b[39mnot\u001b[39;00m \u001b[39mNone\u001b[39;00m:\n",
      "File \u001b[1;32mc:\\Users\\LarsG\\anaconda3\\lib\\site-packages\\sklearn\\base.py:577\u001b[0m, in \u001b[0;36mBaseEstimator._validate_data\u001b[1;34m(self, X, y, reset, validate_separately, **check_params)\u001b[0m\n\u001b[0;32m    575\u001b[0m     \u001b[39mraise\u001b[39;00m \u001b[39mValueError\u001b[39;00m(\u001b[39m\"\u001b[39m\u001b[39mValidation should be done on X, y or both.\u001b[39m\u001b[39m\"\u001b[39m)\n\u001b[0;32m    576\u001b[0m \u001b[39melif\u001b[39;00m \u001b[39mnot\u001b[39;00m no_val_X \u001b[39mand\u001b[39;00m no_val_y:\n\u001b[1;32m--> 577\u001b[0m     X \u001b[39m=\u001b[39m check_array(X, input_name\u001b[39m=\u001b[39m\u001b[39m\"\u001b[39m\u001b[39mX\u001b[39m\u001b[39m\"\u001b[39m, \u001b[39m*\u001b[39m\u001b[39m*\u001b[39mcheck_params)\n\u001b[0;32m    578\u001b[0m     out \u001b[39m=\u001b[39m X\n\u001b[0;32m    579\u001b[0m \u001b[39melif\u001b[39;00m no_val_X \u001b[39mand\u001b[39;00m \u001b[39mnot\u001b[39;00m no_val_y:\n",
      "File \u001b[1;32mc:\\Users\\LarsG\\anaconda3\\lib\\site-packages\\sklearn\\utils\\validation.py:879\u001b[0m, in \u001b[0;36mcheck_array\u001b[1;34m(array, accept_sparse, accept_large_sparse, dtype, order, copy, force_all_finite, ensure_2d, allow_nd, ensure_min_samples, ensure_min_features, estimator, input_name)\u001b[0m\n\u001b[0;32m    877\u001b[0m     \u001b[39m# If input is 1D raise error\u001b[39;00m\n\u001b[0;32m    878\u001b[0m     \u001b[39mif\u001b[39;00m array\u001b[39m.\u001b[39mndim \u001b[39m==\u001b[39m \u001b[39m1\u001b[39m:\n\u001b[1;32m--> 879\u001b[0m         \u001b[39mraise\u001b[39;00m \u001b[39mValueError\u001b[39;00m(\n\u001b[0;32m    880\u001b[0m             \u001b[39m\"\u001b[39m\u001b[39mExpected 2D array, got 1D array instead:\u001b[39m\u001b[39m\\n\u001b[39;00m\u001b[39marray=\u001b[39m\u001b[39m{}\u001b[39;00m\u001b[39m.\u001b[39m\u001b[39m\\n\u001b[39;00m\u001b[39m\"\u001b[39m\n\u001b[0;32m    881\u001b[0m             \u001b[39m\"\u001b[39m\u001b[39mReshape your data either using array.reshape(-1, 1) if \u001b[39m\u001b[39m\"\u001b[39m\n\u001b[0;32m    882\u001b[0m             \u001b[39m\"\u001b[39m\u001b[39myour data has a single feature or array.reshape(1, -1) \u001b[39m\u001b[39m\"\u001b[39m\n\u001b[0;32m    883\u001b[0m             \u001b[39m\"\u001b[39m\u001b[39mif it contains a single sample.\u001b[39m\u001b[39m\"\u001b[39m\u001b[39m.\u001b[39mformat(array)\n\u001b[0;32m    884\u001b[0m         )\n\u001b[0;32m    886\u001b[0m \u001b[39mif\u001b[39;00m dtype_numeric \u001b[39mand\u001b[39;00m array\u001b[39m.\u001b[39mdtype\u001b[39m.\u001b[39mkind \u001b[39min\u001b[39;00m \u001b[39m\"\u001b[39m\u001b[39mUSV\u001b[39m\u001b[39m\"\u001b[39m:\n\u001b[0;32m    887\u001b[0m     \u001b[39mraise\u001b[39;00m \u001b[39mValueError\u001b[39;00m(\n\u001b[0;32m    888\u001b[0m         \u001b[39m\"\u001b[39m\u001b[39mdtype=\u001b[39m\u001b[39m'\u001b[39m\u001b[39mnumeric\u001b[39m\u001b[39m'\u001b[39m\u001b[39m is not compatible with arrays of bytes/strings.\u001b[39m\u001b[39m\"\u001b[39m\n\u001b[0;32m    889\u001b[0m         \u001b[39m\"\u001b[39m\u001b[39mConvert your data to numeric values explicitly instead.\u001b[39m\u001b[39m\"\u001b[39m\n\u001b[0;32m    890\u001b[0m     )\n",
      "\u001b[1;31mValueError\u001b[0m: Expected 2D array, got 1D array instead:\narray=[-0.48250479  2.21157851  0.97793555  1.12817071 -1.07597372  1.44663709\n  2.13766313  2.20735057  0.88425754  2.6741618   1.64616917  3.28759478\n  3.34185824  3.38238206  2.54658512  3.1859854   2.9550993   3.05909652\n  4.27382675  3.77122084  3.51635256  3.83423961  4.3191415   3.21252802\n  1.6747955   2.83183044  2.89825736  2.52212169  3.60967312  3.94297224\n  2.92622386  2.34299338  3.20911108  4.05211426  2.32072709  2.60949148\n  3.19713367  3.87360969  3.53913341  2.69954691  4.48956675  2.37761602\n  2.97840259  2.84924676  3.26025499  3.55797752  4.28751204  6.1264715\n  2.99723769  2.49563726  2.49251282  1.6017761   1.44153068  1.44734027\n  1.31241189  3.66996171  4.59331585  2.47669825  2.26149497  1.24918452\n  1.84676942  2.45643409  1.50702266  2.83407435  2.21616102  3.4390514\n  2.98081394  2.64449836  5.0357628   4.17993507  3.97887123  2.25658999\n  2.53170688  3.40068024  3.06497294  3.420872    4.62399003  5.21054931\n  5.02447649  5.60400396  4.95999143  4.24496749  4.82394212  5.98838189\n  6.2372437   6.55940811  9.09355118  6.10547366  7.20925054  8.74490927\n  8.16282463  8.03701182  7.82961073 10.75800138  9.40892923  7.69168655\n  8.50534958 10.41882676  8.79874515 10.4061599   9.49530611 10.064167\n  9.79013947 11.23999174 11.13113536 10.09792781 10.21544651  9.77919759\n  9.45120954 10.75362865 10.46291595 10.22625867  9.68232402  9.66093484\n  9.45253158 10.70204926 12.60505049  9.67798654  8.67196778 10.74388413\n  9.02471121  9.43959805 10.11507457  9.74970103 10.05261521  9.65273289\n 10.44911491  7.92510196  8.81500651  9.59298373  8.93014998 11.00769765\n  7.72381674  9.41289637  8.67442135  9.05741323  7.37000894  7.79577677\n  9.30460188  8.9410159   9.20848486  8.74986576  9.18395856  7.43554411\n  9.65750653  9.37044082  7.66207295  7.5238327   9.75277713  8.52422765\n  8.54376693  9.9253886   8.71023376  8.26582721 11.66480332  9.38215369\n 10.66249843 10.94307296 11.25425738 12.03985296 11.42141191 10.45812276\n 10.61469463 11.78554753 10.4727111  13.37053737 13.64702458 12.00698621\n 12.06778393 13.22889134 12.60233872 14.27783643 12.07517832 13.4218463\n 14.1382998  15.49799184 13.96805222 14.57981008 15.57738116 15.17418724\n 15.12582494 14.44390284 15.1925817  16.22321711 17.1509238  15.8612862\n 15.65722463 16.63018666 16.56519712 15.44125188 16.21966664 18.54088032\n 16.02812665 15.96305464 17.20849505 16.5135877  16.8150942  18.55954254\n 16.03081459 15.22836919 14.96255662 14.84694923 17.59544081 16.50570417\n 14.55269966 15.39243336 16.74033548 15.62014895 15.74982718 15.12147486\n 16.68080021 15.44028891 15.97347431 16.21746968 16.75560514 16.64610714\n 14.3881341  13.42722884 15.83311455 15.53882572 16.049094   15.61646281\n 14.15777301 15.55495368 15.10776727 14.65908602 15.85848807 14.61879427\n 15.65136486 15.77963179 15.53661986 15.72453015 14.04841054 15.11580612\n 14.38515715 16.30272981 15.14612329 16.08535342 16.61271935 16.27487645\n 17.68763042 17.5599235  16.96927773 17.23578382 17.37461631 17.07600433\n 17.86663311 15.64706153 20.15151856 18.17183601 20.09381025 17.90686538\n 20.01639603 19.42107127 18.25789472 18.69481527 18.9559466  20.48011297\n 23.02968046 22.03328171 22.86548995 21.82223349 19.73181562 19.93441228\n 20.36155685 21.06687343 22.79226546 22.1798064  23.10310655 24.47590158\n 21.58071577 23.09560776 23.02285379 22.47199339 22.04263762 22.70545213\n 22.1090364  23.38948061 21.6208322  22.06158678 24.11693403 23.53744745\n 22.09547838 21.48856004 23.07583652 21.72485464 21.37151158 24.81521\n 22.42542782 21.42065528 23.07388685 22.04187934 21.6543454  22.11053493\n 20.39099683 22.44971569 21.35377467 20.09466638 21.55102422 22.14958803\n 22.66865326 21.1096112  21.03955287 20.59049432 20.226718   20.18252756\n 22.14602017 21.66746708 21.83493911 21.82791539 22.58763512 21.08121144\n 20.87826934 20.52700806 22.87333196 21.66776863 20.04410563 21.37777829\n 21.27747925 22.97991429 21.79388791 21.99836818 22.17760987 22.15166417\n 21.62067813 24.06284882 21.82368175 25.4490453  23.94536214 24.14499956\n 24.47356548 24.12124757 25.95174925 26.75748606 26.36392771 26.04834137\n 26.91501645 25.32262552 27.00835024 26.50286042 26.00346076 24.7614362\n 27.73362525 25.79601923 26.49384559 28.17189555 27.87116704 25.95161748\n 26.76017077 27.32127764 27.19983483 29.75632122 27.87772804 26.01321228\n 27.97588208 29.0107883  28.10830278 27.18042394 28.92327557 29.16679668\n 29.80057776 29.88639572 28.25758276 29.00904411 28.97812243 26.48489461\n 27.4194544  28.60034577 29.42349265 27.80682088 27.76795074 30.0184212\n 28.1761343  29.13571941 28.08358242 28.07136485 28.96494327 29.30761535\n 27.41894336 28.79971089 26.79460676 29.32889513 26.50944472 27.69714852\n 28.80935786 27.11389006 29.16757408 28.21754482 29.14189201 27.80210011\n 26.95530978 28.8493379  27.85282    27.33899796 28.14093509 28.26658454\n 27.18911052 27.67771499 28.18930354 28.83230053].\nReshape your data either using array.reshape(-1, 1) if your data has a single feature or array.reshape(1, -1) if it contains a single sample."
     ]
    }
   ],
   "source": [
    "# create a test dataset for the regresson\n",
    "X = np.linspace(0,30, num = 400)\n",
    "y = X + np.sin(X)*2 + np.random.normal(size=X.shape)\n",
    "sns.scatterplot(x=X,y=y)"
   ]
  },
  {
   "cell_type": "code",
   "execution_count": null,
   "metadata": {},
   "outputs": [],
   "source": []
  },
  {
   "cell_type": "code",
   "execution_count": 17,
   "metadata": {},
   "outputs": [
    {
     "data": {
      "text/plain": [
       "array([[-0.48250479,  2.21157851,  0.97793555,  1.12817071, -1.07597372,\n",
       "         1.44663709,  2.13766313,  2.20735057,  0.88425754,  2.6741618 ,\n",
       "         1.64616917,  3.28759478,  3.34185824,  3.38238206,  2.54658512,\n",
       "         3.1859854 ,  2.9550993 ,  3.05909652,  4.27382675,  3.77122084,\n",
       "         3.51635256,  3.83423961,  4.3191415 ,  3.21252802,  1.6747955 ,\n",
       "         2.83183044,  2.89825736,  2.52212169,  3.60967312,  3.94297224,\n",
       "         2.92622386,  2.34299338,  3.20911108,  4.05211426,  2.32072709,\n",
       "         2.60949148,  3.19713367,  3.87360969,  3.53913341,  2.69954691,\n",
       "         4.48956675,  2.37761602,  2.97840259,  2.84924676,  3.26025499,\n",
       "         3.55797752,  4.28751204,  6.1264715 ,  2.99723769,  2.49563726,\n",
       "         2.49251282,  1.6017761 ,  1.44153068,  1.44734027,  1.31241189,\n",
       "         3.66996171,  4.59331585,  2.47669825,  2.26149497,  1.24918452,\n",
       "         1.84676942,  2.45643409,  1.50702266,  2.83407435,  2.21616102,\n",
       "         3.4390514 ,  2.98081394,  2.64449836,  5.0357628 ,  4.17993507,\n",
       "         3.97887123,  2.25658999,  2.53170688,  3.40068024,  3.06497294,\n",
       "         3.420872  ,  4.62399003,  5.21054931,  5.02447649,  5.60400396,\n",
       "         4.95999143,  4.24496749,  4.82394212,  5.98838189,  6.2372437 ,\n",
       "         6.55940811,  9.09355118,  6.10547366,  7.20925054,  8.74490927,\n",
       "         8.16282463,  8.03701182,  7.82961073, 10.75800138,  9.40892923,\n",
       "         7.69168655,  8.50534958, 10.41882676,  8.79874515, 10.4061599 ,\n",
       "         9.49530611, 10.064167  ,  9.79013947, 11.23999174, 11.13113536,\n",
       "        10.09792781, 10.21544651,  9.77919759,  9.45120954, 10.75362865,\n",
       "        10.46291595, 10.22625867,  9.68232402,  9.66093484,  9.45253158,\n",
       "        10.70204926, 12.60505049,  9.67798654,  8.67196778, 10.74388413,\n",
       "         9.02471121,  9.43959805, 10.11507457,  9.74970103, 10.05261521,\n",
       "         9.65273289, 10.44911491,  7.92510196,  8.81500651,  9.59298373,\n",
       "         8.93014998, 11.00769765,  7.72381674,  9.41289637,  8.67442135,\n",
       "         9.05741323,  7.37000894,  7.79577677,  9.30460188,  8.9410159 ,\n",
       "         9.20848486,  8.74986576,  9.18395856,  7.43554411,  9.65750653,\n",
       "         9.37044082,  7.66207295,  7.5238327 ,  9.75277713,  8.52422765,\n",
       "         8.54376693,  9.9253886 ,  8.71023376,  8.26582721, 11.66480332,\n",
       "         9.38215369, 10.66249843, 10.94307296, 11.25425738, 12.03985296,\n",
       "        11.42141191, 10.45812276, 10.61469463, 11.78554753, 10.4727111 ,\n",
       "        13.37053737, 13.64702458, 12.00698621, 12.06778393, 13.22889134,\n",
       "        12.60233872, 14.27783643, 12.07517832, 13.4218463 , 14.1382998 ,\n",
       "        15.49799184, 13.96805222, 14.57981008, 15.57738116, 15.17418724,\n",
       "        15.12582494, 14.44390284, 15.1925817 , 16.22321711, 17.1509238 ,\n",
       "        15.8612862 , 15.65722463, 16.63018666, 16.56519712, 15.44125188,\n",
       "        16.21966664, 18.54088032, 16.02812665, 15.96305464, 17.20849505,\n",
       "        16.5135877 , 16.8150942 , 18.55954254, 16.03081459, 15.22836919,\n",
       "        14.96255662, 14.84694923, 17.59544081, 16.50570417, 14.55269966,\n",
       "        15.39243336, 16.74033548, 15.62014895, 15.74982718, 15.12147486,\n",
       "        16.68080021, 15.44028891, 15.97347431, 16.21746968, 16.75560514,\n",
       "        16.64610714, 14.3881341 , 13.42722884, 15.83311455, 15.53882572,\n",
       "        16.049094  , 15.61646281, 14.15777301, 15.55495368, 15.10776727,\n",
       "        14.65908602, 15.85848807, 14.61879427, 15.65136486, 15.77963179,\n",
       "        15.53661986, 15.72453015, 14.04841054, 15.11580612, 14.38515715,\n",
       "        16.30272981, 15.14612329, 16.08535342, 16.61271935, 16.27487645,\n",
       "        17.68763042, 17.5599235 , 16.96927773, 17.23578382, 17.37461631,\n",
       "        17.07600433, 17.86663311, 15.64706153, 20.15151856, 18.17183601,\n",
       "        20.09381025, 17.90686538, 20.01639603, 19.42107127, 18.25789472,\n",
       "        18.69481527, 18.9559466 , 20.48011297, 23.02968046, 22.03328171,\n",
       "        22.86548995, 21.82223349, 19.73181562, 19.93441228, 20.36155685,\n",
       "        21.06687343, 22.79226546, 22.1798064 , 23.10310655, 24.47590158,\n",
       "        21.58071577, 23.09560776, 23.02285379, 22.47199339, 22.04263762,\n",
       "        22.70545213, 22.1090364 , 23.38948061, 21.6208322 , 22.06158678,\n",
       "        24.11693403, 23.53744745, 22.09547838, 21.48856004, 23.07583652,\n",
       "        21.72485464, 21.37151158, 24.81521   , 22.42542782, 21.42065528,\n",
       "        23.07388685, 22.04187934, 21.6543454 , 22.11053493, 20.39099683,\n",
       "        22.44971569, 21.35377467, 20.09466638, 21.55102422, 22.14958803,\n",
       "        22.66865326, 21.1096112 , 21.03955287, 20.59049432, 20.226718  ,\n",
       "        20.18252756, 22.14602017, 21.66746708, 21.83493911, 21.82791539,\n",
       "        22.58763512, 21.08121144, 20.87826934, 20.52700806, 22.87333196,\n",
       "        21.66776863, 20.04410563, 21.37777829, 21.27747925, 22.97991429,\n",
       "        21.79388791, 21.99836818, 22.17760987, 22.15166417, 21.62067813,\n",
       "        24.06284882, 21.82368175, 25.4490453 , 23.94536214, 24.14499956,\n",
       "        24.47356548, 24.12124757, 25.95174925, 26.75748606, 26.36392771,\n",
       "        26.04834137, 26.91501645, 25.32262552, 27.00835024, 26.50286042,\n",
       "        26.00346076, 24.7614362 , 27.73362525, 25.79601923, 26.49384559,\n",
       "        28.17189555, 27.87116704, 25.95161748, 26.76017077, 27.32127764,\n",
       "        27.19983483, 29.75632122, 27.87772804, 26.01321228, 27.97588208,\n",
       "        29.0107883 , 28.10830278, 27.18042394, 28.92327557, 29.16679668,\n",
       "        29.80057776, 29.88639572, 28.25758276, 29.00904411, 28.97812243,\n",
       "        26.48489461, 27.4194544 , 28.60034577, 29.42349265, 27.80682088,\n",
       "        27.76795074, 30.0184212 , 28.1761343 , 29.13571941, 28.08358242,\n",
       "        28.07136485, 28.96494327, 29.30761535, 27.41894336, 28.79971089,\n",
       "        26.79460676, 29.32889513, 26.50944472, 27.69714852, 28.80935786,\n",
       "        27.11389006, 29.16757408, 28.21754482, 29.14189201, 27.80210011,\n",
       "        26.95530978, 28.8493379 , 27.85282   , 27.33899796, 28.14093509,\n",
       "        28.26658454, 27.18911052, 27.67771499, 28.18930354, 28.83230053]])"
      ]
     },
     "execution_count": 17,
     "metadata": {},
     "output_type": "execute_result"
    }
   ],
   "source": [
    "y.reshape(1,-1)"
   ]
  },
  {
   "cell_type": "code",
   "execution_count": 18,
   "metadata": {},
   "outputs": [
    {
     "ename": "ValueError",
     "evalue": "Per-column arrays must each be 1-dimensional",
     "output_type": "error",
     "traceback": [
      "\u001b[1;31m---------------------------------------------------------------------------\u001b[0m",
      "\u001b[1;31mValueError\u001b[0m                                Traceback (most recent call last)",
      "\u001b[1;32mc:\\Users\\LarsG\\OneDrive\\Uni\\Master\\Semester_5\\Book_Inside_Deep_Learning\\Chapter 2\\Solved-Exercises.ipynb Cell 6\u001b[0m in \u001b[0;36m<cell line: 4>\u001b[1;34m()\u001b[0m\n\u001b[0;32m      <a href='vscode-notebook-cell:/c%3A/Users/LarsG/OneDrive/Uni/Master/Semester_5/Book_Inside_Deep_Learning/Chapter%202/Solved-Exercises.ipynb#W6sZmlsZQ%3D%3D?line=0'>1</a>\u001b[0m scaler \u001b[39m=\u001b[39m StandardScaler()\n\u001b[0;32m      <a href='vscode-notebook-cell:/c%3A/Users/LarsG/OneDrive/Uni/Master/Semester_5/Book_Inside_Deep_Learning/Chapter%202/Solved-Exercises.ipynb#W6sZmlsZQ%3D%3D?line=1'>2</a>\u001b[0m y_scaled \u001b[39m=\u001b[39m scaler\u001b[39m.\u001b[39mfit_transform(y\u001b[39m.\u001b[39mreshape(\u001b[39m1\u001b[39m,\u001b[39m-\u001b[39m\u001b[39m1\u001b[39m))\n\u001b[1;32m----> <a href='vscode-notebook-cell:/c%3A/Users/LarsG/OneDrive/Uni/Master/Semester_5/Book_Inside_Deep_Learning/Chapter%202/Solved-Exercises.ipynb#W6sZmlsZQ%3D%3D?line=3'>4</a>\u001b[0m sns\u001b[39m.\u001b[39;49mscatterplot(x\u001b[39m=\u001b[39;49mX,y\u001b[39m=\u001b[39;49my_scaled)\n",
      "File \u001b[1;32mc:\\Users\\LarsG\\anaconda3\\lib\\site-packages\\seaborn\\_decorators.py:46\u001b[0m, in \u001b[0;36m_deprecate_positional_args.<locals>.inner_f\u001b[1;34m(*args, **kwargs)\u001b[0m\n\u001b[0;32m     36\u001b[0m     warnings\u001b[39m.\u001b[39mwarn(\n\u001b[0;32m     37\u001b[0m         \u001b[39m\"\u001b[39m\u001b[39mPass the following variable\u001b[39m\u001b[39m{}\u001b[39;00m\u001b[39m as \u001b[39m\u001b[39m{}\u001b[39;00m\u001b[39mkeyword arg\u001b[39m\u001b[39m{}\u001b[39;00m\u001b[39m: \u001b[39m\u001b[39m{}\u001b[39;00m\u001b[39m. \u001b[39m\u001b[39m\"\u001b[39m\n\u001b[0;32m     38\u001b[0m         \u001b[39m\"\u001b[39m\u001b[39mFrom version 0.12, the only valid positional argument \u001b[39m\u001b[39m\"\u001b[39m\n\u001b[1;32m   (...)\u001b[0m\n\u001b[0;32m     43\u001b[0m         \u001b[39mFutureWarning\u001b[39;00m\n\u001b[0;32m     44\u001b[0m     )\n\u001b[0;32m     45\u001b[0m kwargs\u001b[39m.\u001b[39mupdate({k: arg \u001b[39mfor\u001b[39;00m k, arg \u001b[39min\u001b[39;00m \u001b[39mzip\u001b[39m(sig\u001b[39m.\u001b[39mparameters, args)})\n\u001b[1;32m---> 46\u001b[0m \u001b[39mreturn\u001b[39;00m f(\u001b[39m*\u001b[39m\u001b[39m*\u001b[39mkwargs)\n",
      "File \u001b[1;32mc:\\Users\\LarsG\\anaconda3\\lib\\site-packages\\seaborn\\relational.py:808\u001b[0m, in \u001b[0;36mscatterplot\u001b[1;34m(x, y, hue, style, size, data, palette, hue_order, hue_norm, sizes, size_order, size_norm, markers, style_order, x_bins, y_bins, units, estimator, ci, n_boot, alpha, x_jitter, y_jitter, legend, ax, **kwargs)\u001b[0m\n\u001b[0;32m    793\u001b[0m \u001b[39m@_deprecate_positional_args\u001b[39m\n\u001b[0;32m    794\u001b[0m \u001b[39mdef\u001b[39;00m \u001b[39mscatterplot\u001b[39m(\n\u001b[0;32m    795\u001b[0m     \u001b[39m*\u001b[39m,\n\u001b[1;32m   (...)\u001b[0m\n\u001b[0;32m    804\u001b[0m     legend\u001b[39m=\u001b[39m\u001b[39m\"\u001b[39m\u001b[39mauto\u001b[39m\u001b[39m\"\u001b[39m, ax\u001b[39m=\u001b[39m\u001b[39mNone\u001b[39;00m, \u001b[39m*\u001b[39m\u001b[39m*\u001b[39mkwargs\n\u001b[0;32m    805\u001b[0m ):\n\u001b[0;32m    807\u001b[0m     variables \u001b[39m=\u001b[39m _ScatterPlotter\u001b[39m.\u001b[39mget_semantics(\u001b[39mlocals\u001b[39m())\n\u001b[1;32m--> 808\u001b[0m     p \u001b[39m=\u001b[39m _ScatterPlotter(\n\u001b[0;32m    809\u001b[0m         data\u001b[39m=\u001b[39;49mdata, variables\u001b[39m=\u001b[39;49mvariables,\n\u001b[0;32m    810\u001b[0m         x_bins\u001b[39m=\u001b[39;49mx_bins, y_bins\u001b[39m=\u001b[39;49my_bins,\n\u001b[0;32m    811\u001b[0m         estimator\u001b[39m=\u001b[39;49mestimator, ci\u001b[39m=\u001b[39;49mci, n_boot\u001b[39m=\u001b[39;49mn_boot,\n\u001b[0;32m    812\u001b[0m         alpha\u001b[39m=\u001b[39;49malpha, x_jitter\u001b[39m=\u001b[39;49mx_jitter, y_jitter\u001b[39m=\u001b[39;49my_jitter, legend\u001b[39m=\u001b[39;49mlegend,\n\u001b[0;32m    813\u001b[0m     )\n\u001b[0;32m    815\u001b[0m     p\u001b[39m.\u001b[39mmap_hue(palette\u001b[39m=\u001b[39mpalette, order\u001b[39m=\u001b[39mhue_order, norm\u001b[39m=\u001b[39mhue_norm)\n\u001b[0;32m    816\u001b[0m     p\u001b[39m.\u001b[39mmap_size(sizes\u001b[39m=\u001b[39msizes, order\u001b[39m=\u001b[39msize_order, norm\u001b[39m=\u001b[39msize_norm)\n",
      "File \u001b[1;32mc:\\Users\\LarsG\\anaconda3\\lib\\site-packages\\seaborn\\relational.py:587\u001b[0m, in \u001b[0;36m_ScatterPlotter.__init__\u001b[1;34m(self, data, variables, x_bins, y_bins, estimator, ci, n_boot, alpha, x_jitter, y_jitter, legend)\u001b[0m\n\u001b[0;32m    571\u001b[0m \u001b[39mdef\u001b[39;00m \u001b[39m__init__\u001b[39m(\n\u001b[0;32m    572\u001b[0m     \u001b[39mself\u001b[39m, \u001b[39m*\u001b[39m,\n\u001b[0;32m    573\u001b[0m     data\u001b[39m=\u001b[39m\u001b[39mNone\u001b[39;00m, variables\u001b[39m=\u001b[39m{},\n\u001b[1;32m   (...)\u001b[0m\n\u001b[0;32m    581\u001b[0m     \u001b[39m# the kind of plot to draw, but for the time being we need to set\u001b[39;00m\n\u001b[0;32m    582\u001b[0m     \u001b[39m# this information so the SizeMapping can use it\u001b[39;00m\n\u001b[0;32m    583\u001b[0m     \u001b[39mself\u001b[39m\u001b[39m.\u001b[39m_default_size_range \u001b[39m=\u001b[39m (\n\u001b[0;32m    584\u001b[0m         np\u001b[39m.\u001b[39mr_[\u001b[39m.5\u001b[39m, \u001b[39m2\u001b[39m] \u001b[39m*\u001b[39m np\u001b[39m.\u001b[39msquare(mpl\u001b[39m.\u001b[39mrcParams[\u001b[39m\"\u001b[39m\u001b[39mlines.markersize\u001b[39m\u001b[39m\"\u001b[39m])\n\u001b[0;32m    585\u001b[0m     )\n\u001b[1;32m--> 587\u001b[0m     \u001b[39msuper\u001b[39;49m()\u001b[39m.\u001b[39;49m\u001b[39m__init__\u001b[39;49m(data\u001b[39m=\u001b[39;49mdata, variables\u001b[39m=\u001b[39;49mvariables)\n\u001b[0;32m    589\u001b[0m     \u001b[39mself\u001b[39m\u001b[39m.\u001b[39malpha \u001b[39m=\u001b[39m alpha\n\u001b[0;32m    590\u001b[0m     \u001b[39mself\u001b[39m\u001b[39m.\u001b[39mlegend \u001b[39m=\u001b[39m legend\n",
      "File \u001b[1;32mc:\\Users\\LarsG\\anaconda3\\lib\\site-packages\\seaborn\\_core.py:605\u001b[0m, in \u001b[0;36mVectorPlotter.__init__\u001b[1;34m(self, data, variables)\u001b[0m\n\u001b[0;32m    603\u001b[0m \u001b[39mdef\u001b[39;00m \u001b[39m__init__\u001b[39m(\u001b[39mself\u001b[39m, data\u001b[39m=\u001b[39m\u001b[39mNone\u001b[39;00m, variables\u001b[39m=\u001b[39m{}):\n\u001b[1;32m--> 605\u001b[0m     \u001b[39mself\u001b[39;49m\u001b[39m.\u001b[39;49massign_variables(data, variables)\n\u001b[0;32m    607\u001b[0m     \u001b[39mfor\u001b[39;00m var, \u001b[39mcls\u001b[39m \u001b[39min\u001b[39;00m \u001b[39mself\u001b[39m\u001b[39m.\u001b[39m_semantic_mappings\u001b[39m.\u001b[39mitems():\n\u001b[0;32m    608\u001b[0m \n\u001b[0;32m    609\u001b[0m         \u001b[39m# Create the mapping function\u001b[39;00m\n\u001b[0;32m    610\u001b[0m         map_func \u001b[39m=\u001b[39m partial(\u001b[39mcls\u001b[39m\u001b[39m.\u001b[39mmap, plotter\u001b[39m=\u001b[39m\u001b[39mself\u001b[39m)\n",
      "File \u001b[1;32mc:\\Users\\LarsG\\anaconda3\\lib\\site-packages\\seaborn\\_core.py:668\u001b[0m, in \u001b[0;36mVectorPlotter.assign_variables\u001b[1;34m(self, data, variables)\u001b[0m\n\u001b[0;32m    666\u001b[0m \u001b[39melse\u001b[39;00m:\n\u001b[0;32m    667\u001b[0m     \u001b[39mself\u001b[39m\u001b[39m.\u001b[39minput_format \u001b[39m=\u001b[39m \u001b[39m\"\u001b[39m\u001b[39mlong\u001b[39m\u001b[39m\"\u001b[39m\n\u001b[1;32m--> 668\u001b[0m     plot_data, variables \u001b[39m=\u001b[39m \u001b[39mself\u001b[39m\u001b[39m.\u001b[39m_assign_variables_longform(\n\u001b[0;32m    669\u001b[0m         data, \u001b[39m*\u001b[39m\u001b[39m*\u001b[39mvariables,\n\u001b[0;32m    670\u001b[0m     )\n\u001b[0;32m    672\u001b[0m \u001b[39mself\u001b[39m\u001b[39m.\u001b[39mplot_data \u001b[39m=\u001b[39m plot_data\n\u001b[0;32m    673\u001b[0m \u001b[39mself\u001b[39m\u001b[39m.\u001b[39mvariables \u001b[39m=\u001b[39m variables\n",
      "File \u001b[1;32mc:\\Users\\LarsG\\anaconda3\\lib\\site-packages\\seaborn\\_core.py:927\u001b[0m, in \u001b[0;36mVectorPlotter._assign_variables_longform\u001b[1;34m(self, data, **kwargs)\u001b[0m\n\u001b[0;32m    923\u001b[0m         variables[key] \u001b[39m=\u001b[39m \u001b[39mgetattr\u001b[39m(val, \u001b[39m\"\u001b[39m\u001b[39mname\u001b[39m\u001b[39m\"\u001b[39m, \u001b[39mNone\u001b[39;00m)\n\u001b[0;32m    925\u001b[0m \u001b[39m# Construct a tidy plot DataFrame. This will convert a number of\u001b[39;00m\n\u001b[0;32m    926\u001b[0m \u001b[39m# types automatically, aligning on index in case of pandas objects\u001b[39;00m\n\u001b[1;32m--> 927\u001b[0m plot_data \u001b[39m=\u001b[39m pd\u001b[39m.\u001b[39;49mDataFrame(plot_data)\n\u001b[0;32m    929\u001b[0m \u001b[39m# Reduce the variables dictionary to fields with valid data\u001b[39;00m\n\u001b[0;32m    930\u001b[0m variables \u001b[39m=\u001b[39m {\n\u001b[0;32m    931\u001b[0m     var: name\n\u001b[0;32m    932\u001b[0m     \u001b[39mfor\u001b[39;00m var, name \u001b[39min\u001b[39;00m variables\u001b[39m.\u001b[39mitems()\n\u001b[0;32m    933\u001b[0m     \u001b[39mif\u001b[39;00m plot_data[var]\u001b[39m.\u001b[39mnotnull()\u001b[39m.\u001b[39many()\n\u001b[0;32m    934\u001b[0m }\n",
      "File \u001b[1;32mc:\\Users\\LarsG\\anaconda3\\lib\\site-packages\\pandas\\core\\frame.py:636\u001b[0m, in \u001b[0;36mDataFrame.__init__\u001b[1;34m(self, data, index, columns, dtype, copy)\u001b[0m\n\u001b[0;32m    630\u001b[0m     mgr \u001b[39m=\u001b[39m \u001b[39mself\u001b[39m\u001b[39m.\u001b[39m_init_mgr(\n\u001b[0;32m    631\u001b[0m         data, axes\u001b[39m=\u001b[39m{\u001b[39m\"\u001b[39m\u001b[39mindex\u001b[39m\u001b[39m\"\u001b[39m: index, \u001b[39m\"\u001b[39m\u001b[39mcolumns\u001b[39m\u001b[39m\"\u001b[39m: columns}, dtype\u001b[39m=\u001b[39mdtype, copy\u001b[39m=\u001b[39mcopy\n\u001b[0;32m    632\u001b[0m     )\n\u001b[0;32m    634\u001b[0m \u001b[39melif\u001b[39;00m \u001b[39misinstance\u001b[39m(data, \u001b[39mdict\u001b[39m):\n\u001b[0;32m    635\u001b[0m     \u001b[39m# GH#38939 de facto copy defaults to False only in non-dict cases\u001b[39;00m\n\u001b[1;32m--> 636\u001b[0m     mgr \u001b[39m=\u001b[39m dict_to_mgr(data, index, columns, dtype\u001b[39m=\u001b[39;49mdtype, copy\u001b[39m=\u001b[39;49mcopy, typ\u001b[39m=\u001b[39;49mmanager)\n\u001b[0;32m    637\u001b[0m \u001b[39melif\u001b[39;00m \u001b[39misinstance\u001b[39m(data, ma\u001b[39m.\u001b[39mMaskedArray):\n\u001b[0;32m    638\u001b[0m     \u001b[39mimport\u001b[39;00m \u001b[39mnumpy\u001b[39;00m\u001b[39m.\u001b[39;00m\u001b[39mma\u001b[39;00m\u001b[39m.\u001b[39;00m\u001b[39mmrecords\u001b[39;00m \u001b[39mas\u001b[39;00m \u001b[39mmrecords\u001b[39;00m\n",
      "File \u001b[1;32mc:\\Users\\LarsG\\anaconda3\\lib\\site-packages\\pandas\\core\\internals\\construction.py:502\u001b[0m, in \u001b[0;36mdict_to_mgr\u001b[1;34m(data, index, columns, dtype, typ, copy)\u001b[0m\n\u001b[0;32m    494\u001b[0m     arrays \u001b[39m=\u001b[39m [\n\u001b[0;32m    495\u001b[0m         x\n\u001b[0;32m    496\u001b[0m         \u001b[39mif\u001b[39;00m \u001b[39mnot\u001b[39;00m \u001b[39mhasattr\u001b[39m(x, \u001b[39m\"\u001b[39m\u001b[39mdtype\u001b[39m\u001b[39m\"\u001b[39m) \u001b[39mor\u001b[39;00m \u001b[39mnot\u001b[39;00m \u001b[39misinstance\u001b[39m(x\u001b[39m.\u001b[39mdtype, ExtensionDtype)\n\u001b[0;32m    497\u001b[0m         \u001b[39melse\u001b[39;00m x\u001b[39m.\u001b[39mcopy()\n\u001b[0;32m    498\u001b[0m         \u001b[39mfor\u001b[39;00m x \u001b[39min\u001b[39;00m arrays\n\u001b[0;32m    499\u001b[0m     ]\n\u001b[0;32m    500\u001b[0m     \u001b[39m# TODO: can we get rid of the dt64tz special case above?\u001b[39;00m\n\u001b[1;32m--> 502\u001b[0m \u001b[39mreturn\u001b[39;00m arrays_to_mgr(arrays, columns, index, dtype\u001b[39m=\u001b[39;49mdtype, typ\u001b[39m=\u001b[39;49mtyp, consolidate\u001b[39m=\u001b[39;49mcopy)\n",
      "File \u001b[1;32mc:\\Users\\LarsG\\anaconda3\\lib\\site-packages\\pandas\\core\\internals\\construction.py:120\u001b[0m, in \u001b[0;36marrays_to_mgr\u001b[1;34m(arrays, columns, index, dtype, verify_integrity, typ, consolidate)\u001b[0m\n\u001b[0;32m    117\u001b[0m \u001b[39mif\u001b[39;00m verify_integrity:\n\u001b[0;32m    118\u001b[0m     \u001b[39m# figure out the index, if necessary\u001b[39;00m\n\u001b[0;32m    119\u001b[0m     \u001b[39mif\u001b[39;00m index \u001b[39mis\u001b[39;00m \u001b[39mNone\u001b[39;00m:\n\u001b[1;32m--> 120\u001b[0m         index \u001b[39m=\u001b[39m _extract_index(arrays)\n\u001b[0;32m    121\u001b[0m     \u001b[39melse\u001b[39;00m:\n\u001b[0;32m    122\u001b[0m         index \u001b[39m=\u001b[39m ensure_index(index)\n",
      "File \u001b[1;32mc:\\Users\\LarsG\\anaconda3\\lib\\site-packages\\pandas\\core\\internals\\construction.py:661\u001b[0m, in \u001b[0;36m_extract_index\u001b[1;34m(data)\u001b[0m\n\u001b[0;32m    659\u001b[0m         raw_lengths\u001b[39m.\u001b[39mappend(\u001b[39mlen\u001b[39m(val))\n\u001b[0;32m    660\u001b[0m     \u001b[39melif\u001b[39;00m \u001b[39misinstance\u001b[39m(val, np\u001b[39m.\u001b[39mndarray) \u001b[39mand\u001b[39;00m val\u001b[39m.\u001b[39mndim \u001b[39m>\u001b[39m \u001b[39m1\u001b[39m:\n\u001b[1;32m--> 661\u001b[0m         \u001b[39mraise\u001b[39;00m \u001b[39mValueError\u001b[39;00m(\u001b[39m\"\u001b[39m\u001b[39mPer-column arrays must each be 1-dimensional\u001b[39m\u001b[39m\"\u001b[39m)\n\u001b[0;32m    663\u001b[0m \u001b[39mif\u001b[39;00m \u001b[39mnot\u001b[39;00m indexes \u001b[39mand\u001b[39;00m \u001b[39mnot\u001b[39;00m raw_lengths:\n\u001b[0;32m    664\u001b[0m     \u001b[39mraise\u001b[39;00m \u001b[39mValueError\u001b[39;00m(\u001b[39m\"\u001b[39m\u001b[39mIf using all scalar values, you must pass an index\u001b[39m\u001b[39m\"\u001b[39m)\n",
      "\u001b[1;31mValueError\u001b[0m: Per-column arrays must each be 1-dimensional"
     ]
    }
   ],
   "source": [
    "scaler = StandardScaler()\n",
    "y_scaled = scaler.fit_transform(y.reshape(-1,1))\n",
    "\n",
    "sns.scatterplot(x=X,y=y_scaled)"
   ]
  },
  {
   "cell_type": "code",
   "execution_count": null,
   "metadata": {},
   "outputs": [],
   "source": [
    "model = nn.Sequential(\n",
    "    nn.Linear(1, 30),\n",
    "    nn.ReLU(),\n",
    "    nn.Linear(30,30),\n",
    "    nn.ReLU(),\n",
    "    nn.Linear(30,1)\n",
    ")\n",
    "\n",
    "loss = nn.MSELoss()\n"
   ]
  }
 ],
 "metadata": {
  "kernelspec": {
   "display_name": "base",
   "language": "python",
   "name": "python3"
  },
  "language_info": {
   "codemirror_mode": {
    "name": "ipython",
    "version": 3
   },
   "file_extension": ".py",
   "mimetype": "text/x-python",
   "name": "python",
   "nbconvert_exporter": "python",
   "pygments_lexer": "ipython3",
   "version": "3.9.12"
  },
  "orig_nbformat": 4
 },
 "nbformat": 4,
 "nbformat_minor": 2
}
