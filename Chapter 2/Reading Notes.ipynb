{
 "cells": [
  {
   "attachments": {},
   "cell_type": "markdown",
   "metadata": {},
   "source": [
    "This Chapter of the book is all about Fully Connected Networks. First, a linear regression Model is build. Second, a logistic regression is build."
   ]
  },
  {
   "cell_type": "code",
   "execution_count": 20,
   "metadata": {},
   "outputs": [],
   "source": [
    "import torch\n",
    "import torch.nn as nn\n",
    "import numpy as np\n",
    "import torch.nn.functional as F\n",
    "import seaborn as sns\n",
    "from torch.utils.data import Dataset, DataLoader\n",
    "from tqdm import tqdm # imports command line progressbar\n",
    "from torch.utils.data import * \n",
    "# from idlmam import * # github package to the book\n"
   ]
  },
  {
   "cell_type": "code",
   "execution_count": 4,
   "metadata": {},
   "outputs": [],
   "source": [
    "def train_simple_network(model, loss_func, training_loader, epochs=20, device='cpu'):\n",
    "    # training_loader provides us with a batched dataset, which omits having the dataset stored in memory all the time.\n",
    "    # initialize optimizer with model params\n",
    "    optimizer = torch.optim.SGD(model.parameters(), lr=0.001)\n",
    "\n",
    "    # move model to devide\n",
    "    model.to(device)\n",
    "\n",
    "    # do the training\n",
    "    for epoch in tqdm(range(epochs), desc = \"Epoch\"):\n",
    "        model = model.train() # unfreeze weights and put model in training model\n",
    "        running_loss = 0.0\n",
    "\n",
    "        for inputs, labels in tqdm(training_loader, desc=\"Batch\", leave=False):\n",
    "            inputs = inputs.to(device)\n",
    "            labels = inputs.to(device)\n",
    "            # inputs = moveTo(inputs, device) # function from the inside deep learning package\n",
    "            # labels = moveTo(labels, device)\n",
    "\n",
    "            optimizer.zero_grad()\n",
    "            \n",
    "            y_hat = model(inputs)\n",
    "            loss = loss_func(y_hat, labels)\n",
    "            loss.backward() # compute gradients\n",
    "            \n",
    "            # adjust params\n",
    "            optimizer.step()\n",
    "\n",
    "            running_loss += loss.item()\n"
   ]
  },
  {
   "attachments": {},
   "cell_type": "markdown",
   "metadata": {},
   "source": [
    "The above code is a simple training loop, the next thing we need to do in order to construct a small neural network for a regression problem is to create a sample dataset. The below variables will be used as our example dataset in the following. We will wrap a dataset object around it."
   ]
  },
  {
   "cell_type": "code",
   "execution_count": 6,
   "metadata": {},
   "outputs": [
    {
     "data": {
      "text/plain": [
       "<AxesSubplot:>"
      ]
     },
     "execution_count": 6,
     "metadata": {},
     "output_type": "execute_result"
    },
    {
     "data": {
      "image/png": "[encoded data removed]",
      "text/plain": [
       "<Figure size 432x288 with 1 Axes>"
      ]
     },
     "metadata": {
      "needs_background": "light"
     },
     "output_type": "display_data"
    }
   ],
   "source": [
    "X = np.linspace(0,20, num=200)\n",
    "y = X + np.sin(X)*2 + np.random.normal(size=X.shape) # linear + nonliner + random part\n",
    "\n",
    "sns.scatterplot(x=X, y=y)"
   ]
  },
  {
   "attachments": {},
   "cell_type": "markdown",
   "metadata": {},
   "source": [
    "As a reminder: To create a ``Dataset`` object, we need to define the magic methots ``__len__``, ``__getindex__`` and the constructor ``__init__``.\n",
    "The ``Dataset`` object controlls how to get a specific datapoint. The ``DataLoader`` optimizes the datapipeline in such a way that the GPU is as busy as possible during training. Hence, the dataloader fetches the data from the dataset.\n",
    "\n",
    "In addition, we are reshaping the numpy array when it reaches the system with the command `.reshape(-1,1)`. This simply means, that the first dimension should be infered from the input length. In addition, a second dimension of size 1 is added.\n",
    "For a more detailed explanation, see the book on side 38.\n",
    "`reshape()` works in the way that is simply reshapes a given data structure. For this, we need to specify all but one dimension, where the left over dimension (we don't want to specify) is denoted with '-1'. By adding more arguments to the function, we add more dimensions to the tensor. \n",
    "\n",
    "*Example:* Given a numpy array x of 6 values with only one dimension, we can use ``x.reshape(6)`` or ``x.reshape(-1)`` to get the same value. When using ``x.reshape(-1,3)`` We say that the second dimension (width of tensor) should be 3 and due to '-1' numpy infers that the height of the 2d tensor should be 2.\n"
   ]
  },
  {
   "cell_type": "code",
   "execution_count": 18,
   "metadata": {},
   "outputs": [],
   "source": [
    "class regressionDataset(Dataset):\n",
    "    def __init__(self,X,y):\n",
    "        super(regressionDataset, self).__init__()\n",
    "        self.X = X.reshape(-1,1)\n",
    "        self.y = y.reshape(-1,1)\n",
    "\n",
    "    def __getitem__(self, index):\n",
    "        \"This magic method returns a sample and the label for the given index. The returned values must be a torch.tensor\"\n",
    "        input = torch.tensor(self.X[index,:], dtype=torch.float32)\n",
    "        label = torch.tensor(self.y[index], dtype=torch.float32)\n",
    "        return input, label\n",
    "    \n",
    "    def __len__(self):\n",
    "        \"Returns number of samples\"\n",
    "        return self.X.shape[0]"
   ]
  },
  {
   "cell_type": "code",
   "execution_count": 19,
   "metadata": {},
   "outputs": [
    {
     "name": "stdout",
     "output_type": "stream",
     "text": [
      "200\n",
      "(tensor([0.2010]), tensor([-0.2805]))\n"
     ]
    }
   ],
   "source": [
    "data = regressionDataset(X,y)\n",
    "print(len(data)) # works\n",
    "print(data[2]) # works"
   ]
  },
  {
   "attachments": {},
   "cell_type": "markdown",
   "metadata": {},
   "source": [
    "The created dataset can now be used by a ``DataLoader``. The dataloader makes passing data to the model more efficient and hence is the preferred way for training."
   ]
  },
  {
   "cell_type": "code",
   "execution_count": 21,
   "metadata": {},
   "outputs": [],
   "source": [
    "training_loader = DataLoader(regressionDataset(X,y), shuffle=True)"
   ]
  },
  {
   "attachments": {},
   "cell_type": "markdown",
   "metadata": {},
   "source": [
    "Now, we have created the needed data and can create and train our model. Therefore, we will use a simple linear layer which corresponds to a vector matrix multiplication of the input, wehereas the weights correspond to the coefficients. In addition, a bias term is added, which allows the model to shift the solution.\n",
    "\n",
    "In pytorch, the building blocks are defined in modules such as ``torch.nn.Linear``.\n",
    "Each module has a ``forward()`` method which defines how data passes through the layer (i.e. takes input and produces output) and also a ``backward()`` method which defines how the gradient is calculated. Usually, pytorch takes care of the latter one.\n",
    "\n",
    "Regarding the loss: The absolute difference is taken, to omit a negative loss, which would lead the model to get worse since a negative loss would further decrease the loss (loss function should be bounded from below by 0). An alternative would be the MSE.\n"
   ]
  },
  {
   "cell_type": "code",
   "execution_count": 23,
   "metadata": {},
   "outputs": [
    {
     "name": "stderr",
     "output_type": "stream",
     "text": [
      "Epoch: 100%|██████████| 20/20 [00:00<00:00, 20.35it/s]\n"
     ]
    }
   ],
   "source": [
    "in_features = 1\n",
    "out_features = 1\n",
    "model = nn.Linear(in_features, out_features)\n",
    "loss_func = nn.MSELoss()\n",
    "\n",
    "device = torch.device(\"cuda\")\n",
    "train_simple_network(model, loss_func,training_loader,20, device=\"cpu\")\n",
    "# stopped at 2.1.7 (end of page 41)"
   ]
  },
  {
   "cell_type": "code",
   "execution_count": null,
   "metadata": {},
   "outputs": [],
   "source": []
  }
 ],
 "metadata": {
  "kernelspec": {
   "display_name": "base",
   "language": "python",
   "name": "python3"
  },
  "language_info": {
   "codemirror_mode": {
    "name": "ipython",
    "version": 3
   },
   "file_extension": ".py",
   "mimetype": "text/x-python",
   "name": "python",
   "nbconvert_exporter": "python",
   "pygments_lexer": "ipython3",
   "version": "3.9.12"
  },
  "orig_nbformat": 4,
  "vscode": {
   "interpreter": {
    "hash": "e5ff61e0bd924eb5951a5ebda66fd231846b676ebb29b4136ed0d031a5290f33"
   }
  }
 },
 "nbformat": 4,
 "nbformat_minor": 2
}
