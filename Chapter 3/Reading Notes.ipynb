{
 "cells": [
  {
   "attachments": {},
   "cell_type": "markdown",
   "metadata": {},
   "source": [
    "# Chapter 3\n",
    "Chapter 3 is about Convolutional Neural Networks (CNNs) and data augmentation.\n",
    "\n",
    "**Idea Convolutions:** Convolutions are tools to learn spatial patterns and can recognise simple patterns like horizontal or vertical lines. When stacking convolutions, they begin to recognise more complex patterns by building on top of the recognized simpler patterns.\n",
    "\n",
    "In this chapter we will first learn to build our own convolutions and in the end learn about data augmentation techniques."
   ]
  },
  {
   "cell_type": "code",
   "execution_count": 3,
   "metadata": {},
   "outputs": [
    {
     "data": {
      "text/plain": [
       "torch.Tensor"
      ]
     },
     "execution_count": 3,
     "metadata": {},
     "output_type": "execute_result"
    }
   ],
   "source": [
    "import torchvision\n",
    "from torchvision import transforms\n",
    "from matplotlib.pyplot import imshow\n",
    "import torch\n",
    "\n",
    "mnist_data_train = torchvision.datasets.MNIST(\n",
    "    \"./data\", train=True, download=True, transform=transforms.ToTensor())\n",
    "mnist_data_test = torchvision.datasets.MNIST(\n",
    "    \"./data\", train=False, download=True, transform=transforms.ToTensor())\n",
    "\n",
    "x_example, y_example = mnist_data_train[0]\n",
    "type(x_example)  # returns PIL image without transform"
   ]
  },
  {
   "cell_type": "code",
   "execution_count": 9,
   "metadata": {},
   "outputs": [
    {
     "data": {
      "text/plain": [
       "<matplotlib.image.AxesImage at 0x15fd7648d60>"
      ]
     },
     "execution_count": 9,
     "metadata": {},
     "output_type": "execute_result"
    },
    {
     "data": {
      "image/png": "[encoded data removed]",
      "text/plain": [
       "<Figure size 432x288 with 1 Axes>"
      ]
     },
     "metadata": {
      "needs_background": "light"
     },
     "output_type": "display_data"
    }
   ],
   "source": [
    "imshow(x_example[0,:], cmap=\"gray\")"
   ]
  },
  {
   "cell_type": "code",
   "execution_count": 8,
   "metadata": {},
   "outputs": [
    {
     "name": "stdout",
     "output_type": "stream",
     "text": [
      "torch.Size([3, 28, 28])\n"
     ]
    },
    {
     "data": {
      "text/plain": [
       "<matplotlib.image.AxesImage at 0x15fd75fb520>"
      ]
     },
     "execution_count": 8,
     "metadata": {},
     "output_type": "execute_result"
    },
    {
     "data": {
      "image/png": "[encoded data removed]",
      "text/plain": [
       "<Figure size 432x288 with 1 Axes>"
      ]
     },
     "metadata": {
      "needs_background": "light"
     },
     "output_type": "display_data"
    }
   ],
   "source": [
    "# stack the same image on each other to create an image with three channels\n",
    "x_as_color = torch.stack([x_example[0,:],x_example[0,:],x_example[0,:]], dim=0)\n",
    "print(x_as_color.shape)\n",
    "\n",
    "# if we want to show the image, we need to permute the dimensions. (imshow needs W,H,C)\n",
    "imshow(x_as_color.permute(1,2,0))\n",
    "\n",
    "# still black and white since we stacked the same channels three times\n",
    "# change the channels (zero out)\n",
    "x_as_color[0,:] = 0\n",
    "x_as_color[2,:] = 0\n",
    "imshow(x_as_color.permute(1,2,0))"
   ]
  },
  {
   "attachments": {},
   "cell_type": "markdown",
   "metadata": {},
   "source": [
    "## Convolutions\n",
    "Convolutions are functions which have two inputs, the input (image) and a filter(=kernel). The output is a new image. The goal of the convolution is to find certain patterns, it defines what kind of pattern to look for. Convolutions can be 1D, 2D, 3D, ... \n",
    "We will start with 1D Convolutions.\n",
    "\n",
    "**Stopped at 3.2.1**"
   ]
  },
  {
   "cell_type": "markdown",
   "metadata": {},
   "source": []
  }
 ],
 "metadata": {
  "kernelspec": {
   "display_name": "base",
   "language": "python",
   "name": "python3"
  },
  "language_info": {
   "codemirror_mode": {
    "name": "ipython",
    "version": 3
   },
   "file_extension": ".py",
   "mimetype": "text/x-python",
   "name": "python",
   "nbconvert_exporter": "python",
   "pygments_lexer": "ipython3",
   "version": "3.9.12"
  },
  "orig_nbformat": 4
 },
 "nbformat": 4,
 "nbformat_minor": 2
}
