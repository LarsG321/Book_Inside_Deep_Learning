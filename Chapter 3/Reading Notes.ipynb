{
 "cells": [
  {
   "attachments": {},
   "cell_type": "markdown",
   "metadata": {},
   "source": [
    "# Chapter 3\n",
    "Chapter 3 is about Convolutional Neural Networks (CNNs) and data augmentation.\n",
    "\n",
    "**Idea Convolutions:** Convolutions are tools to learn spatial patterns and can recognise simple patterns like horizontal or vertical lines. When stacking convolutions, they begin to recognise more complex patterns by building on top of the recognized simpler patterns.\n",
    "\n",
    "In this chapter we will first learn to build our own convolutions and in the end learn about data augmentation techniques."
   ]
  },
  {
   "cell_type": "code",
   "execution_count": 8,
   "metadata": {},
   "outputs": [
    {
     "data": {
      "text/plain": [
       "torch.Tensor"
      ]
     },
     "execution_count": 8,
     "metadata": {},
     "output_type": "execute_result"
    }
   ],
   "source": [
    "import torchvision\n",
    "from torchvision import transforms\n",
    "from matplotlib.pyplot import imshow\n",
    "import matplotlib.pyplot as plt\n",
    "import torch\n",
    "import numpy as np\n",
    "\n",
    "mnist_data_train = torchvision.datasets.MNIST(\n",
    "    \"./data\", train=True, download=True, transform=transforms.ToTensor())\n",
    "mnist_data_test = torchvision.datasets.MNIST(\n",
    "    \"./data\", train=False, download=True, transform=transforms.ToTensor())\n",
    "\n",
    "x_example, y_example = mnist_data_train[0]\n",
    "type(x_example)  # returns PIL image without transform"
   ]
  },
  {
   "cell_type": "code",
   "execution_count": 9,
   "metadata": {},
   "outputs": [
    {
     "data": {
      "text/plain": [
       "<matplotlib.image.AxesImage at 0x15fd7648d60>"
      ]
     },
     "execution_count": 9,
     "metadata": {},
     "output_type": "execute_result"
    },
    {
     "data": {
      "image/png": "[encoded data removed]",
      "text/plain": [
       "<Figure size 432x288 with 1 Axes>"
      ]
     },
     "metadata": {
      "needs_background": "light"
     },
     "output_type": "display_data"
    }
   ],
   "source": [
    "imshow(x_example[0,:], cmap=\"gray\")"
   ]
  },
  {
   "cell_type": "code",
   "execution_count": 8,
   "metadata": {},
   "outputs": [
    {
     "name": "stdout",
     "output_type": "stream",
     "text": [
      "torch.Size([3, 28, 28])\n"
     ]
    },
    {
     "data": {
      "text/plain": [
       "<matplotlib.image.AxesImage at 0x15fd75fb520>"
      ]
     },
     "execution_count": 8,
     "metadata": {},
     "output_type": "execute_result"
    },
    {
     "data": {
      "image/png": "[encoded data removed]",
      "text/plain": [
       "<Figure size 432x288 with 1 Axes>"
      ]
     },
     "metadata": {
      "needs_background": "light"
     },
     "output_type": "display_data"
    }
   ],
   "source": [
    "# stack the same image on each other to create an image with three channels\n",
    "x_as_color = torch.stack([x_example[0,:],x_example[0,:],x_example[0,:]], dim=0)\n",
    "print(x_as_color.shape)\n",
    "\n",
    "# if we want to show the image, we need to permute the dimensions. (imshow needs W,H,C)\n",
    "imshow(x_as_color.permute(1,2,0))\n",
    "\n",
    "# still black and white since we stacked the same channels three times\n",
    "# change the channels (zero out)\n",
    "x_as_color[0,:] = 0\n",
    "x_as_color[2,:] = 0\n",
    "imshow(x_as_color.permute(1,2,0))"
   ]
  },
  {
   "attachments": {},
   "cell_type": "markdown",
   "metadata": {},
   "source": [
    "## Convolutions\n",
    "Convolutions are functions which have two inputs, the input (image) and a filter(=kernel). The output is a new image. The goal of the convolution is to find certain patterns, it defines what kind of pattern to look for. Convolutions can be 1D, 2D, 3D, ... \n",
    "We will start with 1D Convolutions.\n",
    "\n",
    "**1D Convolutions** A 1D Image just has the size (C, W) and no height, since it is 1D, hence the image only has Channels C and the Width W. We can now apply a filter of size (C,K) to the image. This filter must always match the number of channels, however, we can freely chosse the value K, which is the size fo the filter. In fact, the filter is sliding across every location of the input.\n",
    "Note: A 1D Convolution with one channel is similar to a linear layer. The difference is that the linear layer has no sliding functionality, one way to implement this behavior is to slide the network across slices of the input and share the weights for all slices. This concept is called *weight sharing*. When looking at convolutions in the sense of weight sharing, one can see that convolutions are nothing else than linear operations which work spatially. **Thus a convolution followed by a second convolution is equivalent to just one slightly differnt convolution, similiar to the behaviour of stacking linear layers.** $\\rightarrow$ Never repeat convolutions without nonlinear activations between them and include nonlinear activation functions after convolutions.\n",
    "\n",
    "**2D Convolutions** When increasing the number of dimensions in our tensor, the idea stays the same, we simply slide the filter/kernel across the input and multiply (convolve) the filter with the respective input area. After the convolution we take the sum. Usually the filter size is quadratic, which means that the filters are often just of size K.\n",
    "In general, when applying a filter to an input, the output (= feature map) gets smaller in size. Thus applying convolutions over and over again shrinks the feature map. To omit this behavior we can use some padding around the initial image. The Padding will make sure, that the convolutions doesn't change the size of the feature map compared to the input image. It is done, by adding a certain amount of zero boundaries around an image (example: Zero padding by one). If the filters are quadratic, we use the same padding around all edges.\n",
    "\n",
    "### Convolutions applied to Images\n",
    "In this section it is answered, hwo convolutions benefit from image processing.\n",
    "The chapter starts with an example.\n",
    "First, it will be shown how an image can be blurred (washing out small, noisy artifacts) with a blur kernel. Bluring is simply done by replacing each pixel with an average pixel value of its neighbors.\n",
    "Afterwards, it is shown how to perform edge detection."
   ]
  },
  {
   "cell_type": "code",
   "execution_count": 6,
   "metadata": {},
   "outputs": [
    {
     "data": {
      "text/plain": [
       "<matplotlib.image.AxesImage at 0x25352edaaf0>"
      ]
     },
     "execution_count": 6,
     "metadata": {},
     "output_type": "execute_result"
    },
    {
     "data": {
      "image/png": "[encoded data removed]",
      "text/plain": [
       "<Figure size 432x288 with 1 Axes>"
      ]
     },
     "metadata": {
      "needs_background": "light"
     },
     "output_type": "display_data"
    }
   ],
   "source": [
    "from scipy.signal import convolve\n",
    "img_ind=58\n",
    "img = mnist_data_train[img_ind][0][0,:]\n",
    "plt.imshow(img, vmin=0, vmax=1,cmap=\"gray\")"
   ]
  },
  {
   "cell_type": "code",
   "execution_count": 13,
   "metadata": {},
   "outputs": [
    {
     "name": "stdout",
     "output_type": "stream",
     "text": [
      "Dimension of filter:  (3, 3)\n"
     ]
    },
    {
     "data": {
      "image/png": "[encoded data removed]",
      "text/plain": [
       "<Figure size 432x288 with 1 Axes>"
      ]
     },
     "metadata": {
      "needs_background": "light"
     },
     "output_type": "display_data"
    }
   ],
   "source": [
    "blur_filter = np.asarray([[1,1,1],\n",
    "                          [1,1,1],\n",
    "                          [1,1,1]\n",
    "                          ])/9.0\n",
    "print(\"Dimension of filter: \", blur_filter.shape)\n",
    "blurry_img = convolve(img, blur_filter)\n",
    "plt.imshow(blurry_img, vmin=0, vmax=1, cmap=\"gray\")\n",
    "plt.show()"
   ]
  },
  {
   "attachments": {},
   "cell_type": "markdown",
   "metadata": {},
   "source": [
    "To perform edge detection (here outlines of 4), we want to cancel out everything in the same area, which results in no output, in cases where the neighbor pixels are identical."
   ]
  },
  {
   "cell_type": "code",
   "execution_count": 27,
   "metadata": {},
   "outputs": [
    {
     "data": {
      "text/plain": [
       "<matplotlib.image.AxesImage at 0x25353480970>"
      ]
     },
     "execution_count": 27,
     "metadata": {},
     "output_type": "execute_result"
    },
    {
     "data": {
      "image/png": "[encoded data removed]",
      "text/plain": [
       "<Figure size 432x288 with 1 Axes>"
      ]
     },
     "metadata": {
      "needs_background": "light"
     },
     "output_type": "display_data"
    }
   ],
   "source": [
    "edge_kernel = np.asarray([[-1,-1,-1],\n",
    "                          [-1,8,-1],\n",
    "                          [-1,-1,-1]])\n",
    "edge_img = convolve(img, edge_kernel)\n",
    "plt.imshow(edge_img, vmin=0, vmax=1, cmap=\"gray\")"
   ]
  },
  {
   "attachments": {},
   "cell_type": "markdown",
   "metadata": {},
   "source": [
    "The filter is maximized at the edges, since there is the largest change. Outside of the four, there is no response(black), because the high center cancel out the other around it.\n",
    "The following filter is a slightly modified kernel and not as good at detecting edges."
   ]
  },
  {
   "cell_type": "code",
   "execution_count": 29,
   "metadata": {},
   "outputs": [
    {
     "data": {
      "text/plain": [
       "<matplotlib.image.AxesImage at 0x2535354da30>"
      ]
     },
     "execution_count": 29,
     "metadata": {},
     "output_type": "execute_result"
    },
    {
     "data": {
      "image/png": "[encoded data removed]",
      "text/plain": [
       "<Figure size 432x288 with 1 Axes>"
      ]
     },
     "metadata": {
      "needs_background": "light"
     },
     "output_type": "display_data"
    }
   ],
   "source": [
    "edge_kernel_2= np.asarray([[-1,-1,-1],\n",
    "                          [-1,6,-1],\n",
    "                          [-1,-1,-1]])\n",
    "edge_img = convolve(img, edge_kernel_2)\n",
    "plt.imshow(edge_img, vmin=0, vmax=1, cmap=\"gray\")"
   ]
  },
  {
   "attachments": {},
   "cell_type": "markdown",
   "metadata": {},
   "source": [
    "Befor continuing I would like to understand what the convolve function does.\n",
    "It (discrete convolution) is simply defined by \n",
    "$$(a*v)_n = \\sum_{m = -\\infty}^{\\infty}a_m v_{n-m}$$\n",
    "Where $N, M$ are the lengths of vector $a$ and $v$ respectively.\n",
    "The above formula tells us how to geht the n-th value of the convolution, of course a generalization to multiple dimensions is also possible. When doing a full convolution, the outputs will have size (N+M-1).\n",
    "\n",
    "Visually speaking, when doing a convolution on a one dimensional array, the second array is flipped, and then both arrays are slided across each other. The overlapping parts are multiplied and then summed.\n",
    "\n",
    "Therfore, given two vectors $a = (1,2)'$ and $v= (0,1)'$ a convolution of the two can be constructed. We first flip $v_f = (1,0)'$ then we slide them both across each other. \n",
    "Since we do a full convolution, the resulting convolution has the size $N+M-1$\n",
    "\n",
    "$$(a*v)_1 =\\\\\n",
    "(a*v)_2 \\\\\n",
    "(a*v)_3$$\n",
    "\n",
    "\n",
    " $n=(N+M-1)$ size\n",
    "$$(a*v)_1 = \\sum_{m = 1}^{2}a_m v_{1-m} = a_1 v_0 + a_2 v_1 = a_2 v_1 = 2\\cdot 0 = 0\\\\\n",
    "(a*v)_2 = \\sum_{m = 1}^{2}a_m v_{2-m} = a_1 v_ + a_2 v_0 \\\\\n",
    "(a*v)_3 = \\sum_{m = 1}^{2}a_m v_{3-m} = a_1 v_2 + a_2 v_1 = 1*1 + 2*0$$\n"
   ]
  },
  {
   "cell_type": "code",
   "execution_count": 33,
   "metadata": {},
   "outputs": [
    {
     "data": {
      "text/plain": [
       "array([0, 1, 2])"
      ]
     },
     "execution_count": 33,
     "metadata": {},
     "output_type": "execute_result"
    }
   ],
   "source": [
    "np.convolve([1, 2], [0, 1])\n",
    "## stopd at 3.4, however still in the process of understanding  convolutions mathematically."
   ]
  },
  {
   "cell_type": "markdown",
   "metadata": {},
   "source": []
  }
 ],
 "metadata": {
  "kernelspec": {
   "display_name": "base",
   "language": "python",
   "name": "python3"
  },
  "language_info": {
   "codemirror_mode": {
    "name": "ipython",
    "version": 3
   },
   "file_extension": ".py",
   "mimetype": "text/x-python",
   "name": "python",
   "nbconvert_exporter": "python",
   "pygments_lexer": "ipython3",
   "version": "3.9.12"
  },
  "orig_nbformat": 4
 },
 "nbformat": 4,
 "nbformat_minor": 2
}
