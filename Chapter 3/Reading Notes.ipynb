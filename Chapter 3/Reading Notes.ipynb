{
 "cells": [
  {
   "attachments": {},
   "cell_type": "markdown",
   "metadata": {},
   "source": [
    "# Chapter 3\n",
    "Chapter 3 is about Convolutional Neural Networks (CNNs) and data augmentation.\n",
    "\n",
    "**Idea Convolutions:** Convolutions are tools to learn spatial patterns and can recognise simple patterns like horizontal or vertical lines. When stacking convolutions, they begin to recognise more complex patterns by building on top of the recognized simpler patterns.\n",
    "\n",
    "In this chapter we will first learn to build our own convolutions and in the end learn about data augmentation techniques."
   ]
  },
  {
   "cell_type": "code",
   "execution_count": 15,
   "metadata": {},
   "outputs": [
    {
     "data": {
      "text/plain": [
       "torch.Tensor"
      ]
     },
     "execution_count": 15,
     "metadata": {},
     "output_type": "execute_result"
    }
   ],
   "source": [
    "import torchvision\n",
    "from torchvision import transforms\n",
    "from matplotlib.pyplot import imshow\n",
    "import matplotlib.pyplot as plt\n",
    "import torch \n",
    "import seaborn as sns\n",
    "import numpy as np\n",
    "from torch.utils.data import DataLoader\n",
    "from idlmam import train_simple_network\n",
    "from sklearn.metrics import accuracy_score\n",
    "\n",
    "mnist_data_train = torchvision.datasets.MNIST(\n",
    "    \"./data\", train=True, download=True, transform=transforms.ToTensor())\n",
    "mnist_data_test = torchvision.datasets.MNIST(\n",
    "    \"./data\", train=False, download=True, transform=transforms.ToTensor())\n",
    "\n",
    "x_example, y_example = mnist_data_train[0]\n",
    "type(x_example)  # returns PIL image without transform"
   ]
  },
  {
   "cell_type": "code",
   "execution_count": 2,
   "metadata": {},
   "outputs": [
    {
     "data": {
      "text/plain": [
       "<matplotlib.image.AxesImage at 0x2381055da60>"
      ]
     },
     "execution_count": 2,
     "metadata": {},
     "output_type": "execute_result"
    },
    {
     "data": {
      "image/png": "[encoded data removed]",
      "text/plain": [
       "<Figure size 432x288 with 1 Axes>"
      ]
     },
     "metadata": {
      "needs_background": "light"
     },
     "output_type": "display_data"
    }
   ],
   "source": [
    "imshow(x_example[0,:], cmap=\"gray\")"
   ]
  },
  {
   "cell_type": "code",
   "execution_count": 3,
   "metadata": {},
   "outputs": [
    {
     "name": "stdout",
     "output_type": "stream",
     "text": [
      "torch.Size([3, 28, 28])\n"
     ]
    },
    {
     "data": {
      "text/plain": [
       "<matplotlib.image.AxesImage at 0x238105d6670>"
      ]
     },
     "execution_count": 3,
     "metadata": {},
     "output_type": "execute_result"
    },
    {
     "data": {
      "image/png": "[encoded data removed]",
      "text/plain": [
       "<Figure size 432x288 with 1 Axes>"
      ]
     },
     "metadata": {
      "needs_background": "light"
     },
     "output_type": "display_data"
    }
   ],
   "source": [
    "# stack the same image on each other to create an image with three channels\n",
    "x_as_color = torch.stack([x_example[0,:],x_example[0,:],x_example[0,:]], dim=0)\n",
    "print(x_as_color.shape)\n",
    "\n",
    "# if we want to show the image, we need to permute the dimensions. (imshow needs W,H,C)\n",
    "imshow(x_as_color.permute(1,2,0))\n",
    "\n",
    "# still black and white since we stacked the same channels three times\n",
    "# change the channels (zero out)\n",
    "x_as_color[0,:] = 0\n",
    "x_as_color[2,:] = 0\n",
    "imshow(x_as_color.permute(1,2,0))"
   ]
  },
  {
   "attachments": {},
   "cell_type": "markdown",
   "metadata": {},
   "source": [
    "## Convolutions\n",
    "Convolutions are functions which have two inputs, the input (image) and a filter(=kernel). The output is a new image. The goal of the convolution is to find certain patterns, it defines what kind of pattern to look for. Convolutions can be 1D, 2D, 3D, ... \n",
    "We will start with 1D Convolutions.\n",
    "\n",
    "**1D Convolutions** A 1D Image just has the size (C, W) and no height, since it is 1D, hence the image only has Channels C and the Width W. We can now apply a filter of size (C,K) to the image. This filter must always match the number of channels, however, we can freely chosse the value K, which is the size fo the filter. In fact, the filter is sliding across every location of the input.\n",
    "Note: A 1D Convolution with one channel is similar to a linear layer. The difference is that the linear layer has no sliding functionality, one way to implement this behavior is to slide the network across slices of the input and share the weights for all slices. This concept is called *weight sharing*. When looking at convolutions in the sense of weight sharing, one can see that convolutions are nothing else than linear operations which work spatially. **Thus a convolution followed by a second convolution is equivalent to just one slightly differnt convolution, similiar to the behaviour of stacking linear layers.** $\\rightarrow$ Never repeat convolutions without nonlinear activations between them and include nonlinear activation functions after convolutions.\n",
    "\n",
    "**2D Convolutions** When increasing the number of dimensions in our tensor, the idea stays the same, we simply slide the filter/kernel across the input and multiply (convolve) the filter with the respective input area. After the convolution we take the sum. Usually the filter size is quadratic, which means that the filters are often just of size K.\n",
    "In general, when applying a filter to an input, the output (= feature map) gets smaller in size. Thus applying convolutions over and over again shrinks the feature map. To omit this behavior we can use some padding around the initial image. The Padding will make sure, that the convolutions doesn't change the size of the feature map compared to the input image. It is done, by adding a certain amount of zero boundaries around an image (example: Zero padding by one). If the filters are quadratic, we use the same padding around all edges.\n",
    "\n",
    "### Convolutions applied to Images\n",
    "In this section it is answered, hwo convolutions benefit from image processing.\n",
    "The chapter starts with an example.\n",
    "First, it will be shown how an image can be blurred (washing out small, noisy artifacts) with a blur kernel. Bluring is simply done by replacing each pixel with an average pixel value of its neighbors.\n",
    "Afterwards, it is shown how to perform edge detection."
   ]
  },
  {
   "cell_type": "code",
   "execution_count": 4,
   "metadata": {},
   "outputs": [
    {
     "data": {
      "text/plain": [
       "<matplotlib.image.AxesImage at 0x23811d7ca30>"
      ]
     },
     "execution_count": 4,
     "metadata": {},
     "output_type": "execute_result"
    },
    {
     "data": {
      "image/png": "[encoded data removed]",
      "text/plain": [
       "<Figure size 432x288 with 1 Axes>"
      ]
     },
     "metadata": {
      "needs_background": "light"
     },
     "output_type": "display_data"
    }
   ],
   "source": [
    "from scipy.signal import convolve\n",
    "img_ind=58\n",
    "img = mnist_data_train[img_ind][0][0,:]\n",
    "plt.imshow(img, vmin=0, vmax=1,cmap=\"gray\")"
   ]
  },
  {
   "cell_type": "code",
   "execution_count": 5,
   "metadata": {},
   "outputs": [
    {
     "name": "stdout",
     "output_type": "stream",
     "text": [
      "Dimension of filter:  (3, 3)\n"
     ]
    },
    {
     "data": {
      "image/png": "[encoded data removed]",
      "text/plain": [
       "<Figure size 432x288 with 1 Axes>"
      ]
     },
     "metadata": {
      "needs_background": "light"
     },
     "output_type": "display_data"
    }
   ],
   "source": [
    "blur_filter = np.asarray([[1,1,1],\n",
    "                          [1,1,1],\n",
    "                          [1,1,1]\n",
    "                          ])/9.0\n",
    "print(\"Dimension of filter: \", blur_filter.shape)\n",
    "blurry_img = convolve(img, blur_filter)\n",
    "plt.imshow(blurry_img, vmin=0, vmax=1, cmap=\"gray\")\n",
    "plt.show()"
   ]
  },
  {
   "attachments": {},
   "cell_type": "markdown",
   "metadata": {},
   "source": [
    "To perform edge detection (here outlines of 4), we want to cancel out everything in the same area, which results in no output, in cases where the neighbor pixels are identical."
   ]
  },
  {
   "cell_type": "code",
   "execution_count": 6,
   "metadata": {},
   "outputs": [
    {
     "data": {
      "text/plain": [
       "<matplotlib.image.AxesImage at 0x23811e45ee0>"
      ]
     },
     "execution_count": 6,
     "metadata": {},
     "output_type": "execute_result"
    },
    {
     "data": {
      "image/png": "[encoded data removed]",
      "text/plain": [
       "<Figure size 432x288 with 1 Axes>"
      ]
     },
     "metadata": {
      "needs_background": "light"
     },
     "output_type": "display_data"
    }
   ],
   "source": [
    "edge_kernel = np.asarray([[-1,-1,-1],\n",
    "                          [-1,8,-1],\n",
    "                          [-1,-1,-1]])\n",
    "edge_img = convolve(img, edge_kernel)\n",
    "plt.imshow(edge_img, vmin=0, vmax=1, cmap=\"gray\")"
   ]
  },
  {
   "attachments": {},
   "cell_type": "markdown",
   "metadata": {},
   "source": [
    "The filter is maximized at the edges, since there is the largest change. Outside of the four, there is no response(black), because the high center cancel out the other around it.\n",
    "The following filter is a slightly modified kernel and not as good at detecting edges."
   ]
  },
  {
   "cell_type": "code",
   "execution_count": 7,
   "metadata": {},
   "outputs": [
    {
     "data": {
      "text/plain": [
       "<matplotlib.image.AxesImage at 0x23811ea6cd0>"
      ]
     },
     "execution_count": 7,
     "metadata": {},
     "output_type": "execute_result"
    },
    {
     "data": {
      "image/png": "[encoded data removed]",
      "text/plain": [
       "<Figure size 432x288 with 1 Axes>"
      ]
     },
     "metadata": {
      "needs_background": "light"
     },
     "output_type": "display_data"
    }
   ],
   "source": [
    "edge_kernel_2= np.asarray([[-1,-1,-1],\n",
    "                          [-1,6,-1],\n",
    "                          [-1,-1,-1]])\n",
    "edge_img = convolve(img, edge_kernel_2)\n",
    "plt.imshow(edge_img, vmin=0, vmax=1, cmap=\"gray\")"
   ]
  },
  {
   "attachments": {},
   "cell_type": "markdown",
   "metadata": {},
   "source": [
    "## Our first CNN (Start 3.4)\n",
    "In theory, we apply a convolution to a certain amount channels of an input image. and get a two dimensional image back for each convolution. Afterwards, all convolution results are stacked to one large 3D tensor.\n",
    "The output has as many channels as used covolutions.\n",
    "To make the covolutions nonlinear we wrap a nonlinear function around the output. To feed the output to a linear layer, we flatten the output, because the linear layer expects only a one-dimensional tensor."
   ]
  },
  {
   "cell_type": "code",
   "execution_count": 8,
   "metadata": {},
   "outputs": [],
   "source": [
    "if torch.cuda.is_available():\n",
    "    device = torch.device(\"cuda\")\n",
    "else:\n",
    "    device = torch.device(\"cpu\")\n",
    "\n",
    "B = 32 # Batch size.\n",
    "mnist_train_loader = DataLoader(mnist_data_train, batch_size=B, shuffle=True)\n",
    "mnist_test_loader = DataLoader(mnist_data_test, batch_size=B)"
   ]
  },
  {
   "cell_type": "code",
   "execution_count": 10,
   "metadata": {},
   "outputs": [],
   "source": [
    "C = 1 # image is black and white and has only one channel\n",
    "D = 28*28 # size of the input image (i.e. number of features)\n",
    "\n",
    "classes = 10 # how many classes?\n",
    "filters = 16 # how many filters to use?\n",
    "K = 3 # size of the symmetric filter, remember we add padding to get same output size after convolution\n",
    "\n",
    "# linear model without cnn (fully connected network)\n",
    "model_linear = torch.nn.Sequential(\n",
    "    torch.nn.Flatten(), # flatten the input to one d (B,C,W,H) -> (B, C*W*H) = (B, D)\n",
    "    torch.nn.Linear(D, 256),\n",
    "    torch.nn.Tanh(),\n",
    "    torch.nn.Linear(256, classes)\n",
    ")\n",
    "\n",
    "# the filters variable defines how many kernels we run over the image, and hence how many output images (feature maps) are generated.\n",
    "# each feature map is then flattened and all feature maps are concatenated to one large array.\n",
    "model_cnn = torch.nn.Sequential(\n",
    "    torch.nn.Conv2d(C, filters, K, padding=K//2),\n",
    "    torch.nn.Tanh(),\n",
    "    torch.nn.Flatten(),\n",
    "    torch.nn.Linear(filters*D, classes)\n",
    ")"
   ]
  },
  {
   "attachments": {},
   "cell_type": "markdown",
   "metadata": {},
   "source": [
    "After defining one network with only linear layers (fully connected network here) and one network which uses convolutions, we will compare both by the accuracy."
   ]
  },
  {
   "cell_type": "code",
   "execution_count": 14,
   "metadata": {},
   "outputs": [
    {
     "data": {
      "application/vnd.jupyter.widget-view+json": {
       "model_id": "564548cceb1d4f188db0b639bd3a1504",
       "version_major": 2,
       "version_minor": 0
      },
      "text/plain": [
       "Epoch:   0%|          | 0/20 [00:00<?, ?it/s]"
      ]
     },
     "metadata": {},
     "output_type": "display_data"
    },
    {
     "data": {
      "application/vnd.jupyter.widget-view+json": {
       "model_id": "ab154336bfad4406bd2b4979e5bf3372",
       "version_major": 2,
       "version_minor": 0
      },
      "text/plain": [
       "Training:   0%|          | 0/1875 [00:00<?, ?it/s]"
      ]
     },
     "metadata": {},
     "output_type": "display_data"
    },
    {
     "data": {
      "application/vnd.jupyter.widget-view+json": {
       "model_id": "a5392b07285d4cf3ba5864ab506a9334",
       "version_major": 2,
       "version_minor": 0
      },
      "text/plain": [
       "Testing:   0%|          | 0/313 [00:00<?, ?it/s]"
      ]
     },
     "metadata": {},
     "output_type": "display_data"
    },
    {
     "data": {
      "application/vnd.jupyter.widget-view+json": {
       "model_id": "d20886761f1447ad80ae11559351e8b6",
       "version_major": 2,
       "version_minor": 0
      },
      "text/plain": [
       "Training:   0%|          | 0/1875 [00:00<?, ?it/s]"
      ]
     },
     "metadata": {},
     "output_type": "display_data"
    },
    {
     "data": {
      "application/vnd.jupyter.widget-view+json": {
       "model_id": "b8e85d82318e4e148176bd2c0ea122ec",
       "version_major": 2,
       "version_minor": 0
      },
      "text/plain": [
       "Testing:   0%|          | 0/313 [00:00<?, ?it/s]"
      ]
     },
     "metadata": {},
     "output_type": "display_data"
    },
    {
     "data": {
      "application/vnd.jupyter.widget-view+json": {
       "model_id": "d32f5021ba8d4916acbc5e0aa4aa523f",
       "version_major": 2,
       "version_minor": 0
      },
      "text/plain": [
       "Training:   0%|          | 0/1875 [00:00<?, ?it/s]"
      ]
     },
     "metadata": {},
     "output_type": "display_data"
    },
    {
     "data": {
      "application/vnd.jupyter.widget-view+json": {
       "model_id": "b7ad8d08ad75495590aa28d8133523fa",
       "version_major": 2,
       "version_minor": 0
      },
      "text/plain": [
       "Testing:   0%|          | 0/313 [00:00<?, ?it/s]"
      ]
     },
     "metadata": {},
     "output_type": "display_data"
    },
    {
     "data": {
      "application/vnd.jupyter.widget-view+json": {
       "model_id": "1434a564ff3542c7b6dc2b9284ee3bfe",
       "version_major": 2,
       "version_minor": 0
      },
      "text/plain": [
       "Training:   0%|          | 0/1875 [00:00<?, ?it/s]"
      ]
     },
     "metadata": {},
     "output_type": "display_data"
    },
    {
     "data": {
      "application/vnd.jupyter.widget-view+json": {
       "model_id": "29ef8d4a1e8b4b15a9cd5f17cb2bb0e2",
       "version_major": 2,
       "version_minor": 0
      },
      "text/plain": [
       "Testing:   0%|          | 0/313 [00:00<?, ?it/s]"
      ]
     },
     "metadata": {},
     "output_type": "display_data"
    },
    {
     "data": {
      "application/vnd.jupyter.widget-view+json": {
       "model_id": "a138e1a67e294fe6b48343a1e3adffe0",
       "version_major": 2,
       "version_minor": 0
      },
      "text/plain": [
       "Training:   0%|          | 0/1875 [00:00<?, ?it/s]"
      ]
     },
     "metadata": {},
     "output_type": "display_data"
    },
    {
     "data": {
      "application/vnd.jupyter.widget-view+json": {
       "model_id": "c9337e5500434824ac92082a25a8638b",
       "version_major": 2,
       "version_minor": 0
      },
      "text/plain": [
       "Testing:   0%|          | 0/313 [00:00<?, ?it/s]"
      ]
     },
     "metadata": {},
     "output_type": "display_data"
    },
    {
     "data": {
      "application/vnd.jupyter.widget-view+json": {
       "model_id": "557cbfd2776847b498a2ce9ce46510fc",
       "version_major": 2,
       "version_minor": 0
      },
      "text/plain": [
       "Training:   0%|          | 0/1875 [00:00<?, ?it/s]"
      ]
     },
     "metadata": {},
     "output_type": "display_data"
    },
    {
     "data": {
      "application/vnd.jupyter.widget-view+json": {
       "model_id": "5fc8c7abdb1f4999baf724bd71e516dc",
       "version_major": 2,
       "version_minor": 0
      },
      "text/plain": [
       "Testing:   0%|          | 0/313 [00:00<?, ?it/s]"
      ]
     },
     "metadata": {},
     "output_type": "display_data"
    },
    {
     "data": {
      "application/vnd.jupyter.widget-view+json": {
       "model_id": "7dc334f1f9a24a21a478266df2ef64b0",
       "version_major": 2,
       "version_minor": 0
      },
      "text/plain": [
       "Training:   0%|          | 0/1875 [00:00<?, ?it/s]"
      ]
     },
     "metadata": {},
     "output_type": "display_data"
    },
    {
     "data": {
      "application/vnd.jupyter.widget-view+json": {
       "model_id": "6d43679be12a46b3a4cb9e87849bd6ef",
       "version_major": 2,
       "version_minor": 0
      },
      "text/plain": [
       "Testing:   0%|          | 0/313 [00:00<?, ?it/s]"
      ]
     },
     "metadata": {},
     "output_type": "display_data"
    },
    {
     "data": {
      "application/vnd.jupyter.widget-view+json": {
       "model_id": "c14dae8c9107410485dfa747d2ffd773",
       "version_major": 2,
       "version_minor": 0
      },
      "text/plain": [
       "Training:   0%|          | 0/1875 [00:00<?, ?it/s]"
      ]
     },
     "metadata": {},
     "output_type": "display_data"
    },
    {
     "data": {
      "application/vnd.jupyter.widget-view+json": {
       "model_id": "099456d82987476ba3196a10fb8e7e85",
       "version_major": 2,
       "version_minor": 0
      },
      "text/plain": [
       "Testing:   0%|          | 0/313 [00:00<?, ?it/s]"
      ]
     },
     "metadata": {},
     "output_type": "display_data"
    },
    {
     "data": {
      "application/vnd.jupyter.widget-view+json": {
       "model_id": "531d52853e8549e59a1023084fafab0e",
       "version_major": 2,
       "version_minor": 0
      },
      "text/plain": [
       "Training:   0%|          | 0/1875 [00:00<?, ?it/s]"
      ]
     },
     "metadata": {},
     "output_type": "display_data"
    },
    {
     "data": {
      "application/vnd.jupyter.widget-view+json": {
       "model_id": "86a02323b1e84be698cc959018e3b3ff",
       "version_major": 2,
       "version_minor": 0
      },
      "text/plain": [
       "Testing:   0%|          | 0/313 [00:00<?, ?it/s]"
      ]
     },
     "metadata": {},
     "output_type": "display_data"
    },
    {
     "data": {
      "application/vnd.jupyter.widget-view+json": {
       "model_id": "ff43f429f32f4612bdf30d1f8ab51a6b",
       "version_major": 2,
       "version_minor": 0
      },
      "text/plain": [
       "Training:   0%|          | 0/1875 [00:00<?, ?it/s]"
      ]
     },
     "metadata": {},
     "output_type": "display_data"
    },
    {
     "data": {
      "application/vnd.jupyter.widget-view+json": {
       "model_id": "521e76eaa1cf4ed48471f0085d7806e5",
       "version_major": 2,
       "version_minor": 0
      },
      "text/plain": [
       "Testing:   0%|          | 0/313 [00:00<?, ?it/s]"
      ]
     },
     "metadata": {},
     "output_type": "display_data"
    },
    {
     "data": {
      "application/vnd.jupyter.widget-view+json": {
       "model_id": "31f9dd53cf17425ca849231dd3a1c5d8",
       "version_major": 2,
       "version_minor": 0
      },
      "text/plain": [
       "Training:   0%|          | 0/1875 [00:00<?, ?it/s]"
      ]
     },
     "metadata": {},
     "output_type": "display_data"
    },
    {
     "data": {
      "application/vnd.jupyter.widget-view+json": {
       "model_id": "a490befe71ef433fa93d13c1c9e2f359",
       "version_major": 2,
       "version_minor": 0
      },
      "text/plain": [
       "Testing:   0%|          | 0/313 [00:00<?, ?it/s]"
      ]
     },
     "metadata": {},
     "output_type": "display_data"
    },
    {
     "data": {
      "application/vnd.jupyter.widget-view+json": {
       "model_id": "2186efab6641411c9b91c2a3229579a9",
       "version_major": 2,
       "version_minor": 0
      },
      "text/plain": [
       "Training:   0%|          | 0/1875 [00:00<?, ?it/s]"
      ]
     },
     "metadata": {},
     "output_type": "display_data"
    },
    {
     "data": {
      "application/vnd.jupyter.widget-view+json": {
       "model_id": "cef3b40341ae44dd8cf0363db91d65bc",
       "version_major": 2,
       "version_minor": 0
      },
      "text/plain": [
       "Testing:   0%|          | 0/313 [00:00<?, ?it/s]"
      ]
     },
     "metadata": {},
     "output_type": "display_data"
    },
    {
     "data": {
      "application/vnd.jupyter.widget-view+json": {
       "model_id": "5207967deaae4a33a86014f941bef721",
       "version_major": 2,
       "version_minor": 0
      },
      "text/plain": [
       "Training:   0%|          | 0/1875 [00:00<?, ?it/s]"
      ]
     },
     "metadata": {},
     "output_type": "display_data"
    },
    {
     "data": {
      "application/vnd.jupyter.widget-view+json": {
       "model_id": "01081317ea4f40d685aba16961ae5c81",
       "version_major": 2,
       "version_minor": 0
      },
      "text/plain": [
       "Testing:   0%|          | 0/313 [00:00<?, ?it/s]"
      ]
     },
     "metadata": {},
     "output_type": "display_data"
    },
    {
     "data": {
      "application/vnd.jupyter.widget-view+json": {
       "model_id": "4b9c0142963f4cbeb36539b7de38fd8c",
       "version_major": 2,
       "version_minor": 0
      },
      "text/plain": [
       "Training:   0%|          | 0/1875 [00:00<?, ?it/s]"
      ]
     },
     "metadata": {},
     "output_type": "display_data"
    },
    {
     "data": {
      "application/vnd.jupyter.widget-view+json": {
       "model_id": "96b9d76187894cbab8daf8418d076b93",
       "version_major": 2,
       "version_minor": 0
      },
      "text/plain": [
       "Testing:   0%|          | 0/313 [00:00<?, ?it/s]"
      ]
     },
     "metadata": {},
     "output_type": "display_data"
    },
    {
     "data": {
      "application/vnd.jupyter.widget-view+json": {
       "model_id": "882edb283b324aa19b391cfb4f827cd8",
       "version_major": 2,
       "version_minor": 0
      },
      "text/plain": [
       "Training:   0%|          | 0/1875 [00:00<?, ?it/s]"
      ]
     },
     "metadata": {},
     "output_type": "display_data"
    },
    {
     "data": {
      "application/vnd.jupyter.widget-view+json": {
       "model_id": "ad12383631754aa693216868744dd5e9",
       "version_major": 2,
       "version_minor": 0
      },
      "text/plain": [
       "Testing:   0%|          | 0/313 [00:00<?, ?it/s]"
      ]
     },
     "metadata": {},
     "output_type": "display_data"
    },
    {
     "data": {
      "application/vnd.jupyter.widget-view+json": {
       "model_id": "5e4a4debd4eb463cb21e21541f7950a1",
       "version_major": 2,
       "version_minor": 0
      },
      "text/plain": [
       "Training:   0%|          | 0/1875 [00:00<?, ?it/s]"
      ]
     },
     "metadata": {},
     "output_type": "display_data"
    },
    {
     "data": {
      "application/vnd.jupyter.widget-view+json": {
       "model_id": "29a693aba6174373af35f261ef1e9090",
       "version_major": 2,
       "version_minor": 0
      },
      "text/plain": [
       "Testing:   0%|          | 0/313 [00:00<?, ?it/s]"
      ]
     },
     "metadata": {},
     "output_type": "display_data"
    },
    {
     "data": {
      "application/vnd.jupyter.widget-view+json": {
       "model_id": "9d2ee930b3fd4dd8804ed3b35c853e10",
       "version_major": 2,
       "version_minor": 0
      },
      "text/plain": [
       "Training:   0%|          | 0/1875 [00:00<?, ?it/s]"
      ]
     },
     "metadata": {},
     "output_type": "display_data"
    },
    {
     "data": {
      "application/vnd.jupyter.widget-view+json": {
       "model_id": "c4678124bf6f4c458073e9f6572bae23",
       "version_major": 2,
       "version_minor": 0
      },
      "text/plain": [
       "Testing:   0%|          | 0/313 [00:00<?, ?it/s]"
      ]
     },
     "metadata": {},
     "output_type": "display_data"
    },
    {
     "data": {
      "application/vnd.jupyter.widget-view+json": {
       "model_id": "5b06f7a39d4b400ab325cf044a2a69f0",
       "version_major": 2,
       "version_minor": 0
      },
      "text/plain": [
       "Training:   0%|          | 0/1875 [00:00<?, ?it/s]"
      ]
     },
     "metadata": {},
     "output_type": "display_data"
    },
    {
     "data": {
      "application/vnd.jupyter.widget-view+json": {
       "model_id": "6f27465706104ca8aaa57cbf1aeafca6",
       "version_major": 2,
       "version_minor": 0
      },
      "text/plain": [
       "Testing:   0%|          | 0/313 [00:00<?, ?it/s]"
      ]
     },
     "metadata": {},
     "output_type": "display_data"
    },
    {
     "data": {
      "application/vnd.jupyter.widget-view+json": {
       "model_id": "1cff08e1a56a42b09206af8a44bd5c6c",
       "version_major": 2,
       "version_minor": 0
      },
      "text/plain": [
       "Training:   0%|          | 0/1875 [00:00<?, ?it/s]"
      ]
     },
     "metadata": {},
     "output_type": "display_data"
    },
    {
     "data": {
      "application/vnd.jupyter.widget-view+json": {
       "model_id": "edae2d1a41124e4daa7ae246feba7467",
       "version_major": 2,
       "version_minor": 0
      },
      "text/plain": [
       "Testing:   0%|          | 0/313 [00:00<?, ?it/s]"
      ]
     },
     "metadata": {},
     "output_type": "display_data"
    },
    {
     "data": {
      "application/vnd.jupyter.widget-view+json": {
       "model_id": "0c1dd5f677a74c0da102396f5a6b6bc0",
       "version_major": 2,
       "version_minor": 0
      },
      "text/plain": [
       "Training:   0%|          | 0/1875 [00:00<?, ?it/s]"
      ]
     },
     "metadata": {},
     "output_type": "display_data"
    },
    {
     "data": {
      "application/vnd.jupyter.widget-view+json": {
       "model_id": "1f3c3a4c164748f79bf99514014dc908",
       "version_major": 2,
       "version_minor": 0
      },
      "text/plain": [
       "Testing:   0%|          | 0/313 [00:00<?, ?it/s]"
      ]
     },
     "metadata": {},
     "output_type": "display_data"
    },
    {
     "data": {
      "application/vnd.jupyter.widget-view+json": {
       "model_id": "a1d6f15b51344ef1a99f5ec3afc80e77",
       "version_major": 2,
       "version_minor": 0
      },
      "text/plain": [
       "Epoch:   0%|          | 0/20 [00:00<?, ?it/s]"
      ]
     },
     "metadata": {},
     "output_type": "display_data"
    },
    {
     "data": {
      "application/vnd.jupyter.widget-view+json": {
       "model_id": "96e0b579a2ee440480fecb90e9380427",
       "version_major": 2,
       "version_minor": 0
      },
      "text/plain": [
       "Training:   0%|          | 0/1875 [00:00<?, ?it/s]"
      ]
     },
     "metadata": {},
     "output_type": "display_data"
    },
    {
     "data": {
      "application/vnd.jupyter.widget-view+json": {
       "model_id": "4bc8c0bd00a24b10bcf8199f37b5a247",
       "version_major": 2,
       "version_minor": 0
      },
      "text/plain": [
       "Testing:   0%|          | 0/313 [00:00<?, ?it/s]"
      ]
     },
     "metadata": {},
     "output_type": "display_data"
    },
    {
     "data": {
      "application/vnd.jupyter.widget-view+json": {
       "model_id": "52ffddbe1f2e40f2a1699d8a7f36210c",
       "version_major": 2,
       "version_minor": 0
      },
      "text/plain": [
       "Training:   0%|          | 0/1875 [00:00<?, ?it/s]"
      ]
     },
     "metadata": {},
     "output_type": "display_data"
    },
    {
     "data": {
      "application/vnd.jupyter.widget-view+json": {
       "model_id": "f4c13f727d5c40cc8e913f53e3430e31",
       "version_major": 2,
       "version_minor": 0
      },
      "text/plain": [
       "Testing:   0%|          | 0/313 [00:00<?, ?it/s]"
      ]
     },
     "metadata": {},
     "output_type": "display_data"
    },
    {
     "data": {
      "application/vnd.jupyter.widget-view+json": {
       "model_id": "d116058fd99947a89bdfa55c17859c46",
       "version_major": 2,
       "version_minor": 0
      },
      "text/plain": [
       "Training:   0%|          | 0/1875 [00:00<?, ?it/s]"
      ]
     },
     "metadata": {},
     "output_type": "display_data"
    },
    {
     "data": {
      "application/vnd.jupyter.widget-view+json": {
       "model_id": "a2a3b774a3cd4fe2ab527ebd74dd744c",
       "version_major": 2,
       "version_minor": 0
      },
      "text/plain": [
       "Testing:   0%|          | 0/313 [00:00<?, ?it/s]"
      ]
     },
     "metadata": {},
     "output_type": "display_data"
    },
    {
     "data": {
      "application/vnd.jupyter.widget-view+json": {
       "model_id": "c96f67c111004eb5a8f5c328af8bbd2e",
       "version_major": 2,
       "version_minor": 0
      },
      "text/plain": [
       "Training:   0%|          | 0/1875 [00:00<?, ?it/s]"
      ]
     },
     "metadata": {},
     "output_type": "display_data"
    },
    {
     "data": {
      "application/vnd.jupyter.widget-view+json": {
       "model_id": "cf2df220b0554ce0bb12cfdc00bf1bfb",
       "version_major": 2,
       "version_minor": 0
      },
      "text/plain": [
       "Testing:   0%|          | 0/313 [00:00<?, ?it/s]"
      ]
     },
     "metadata": {},
     "output_type": "display_data"
    },
    {
     "data": {
      "application/vnd.jupyter.widget-view+json": {
       "model_id": "5db0a86aec1d4d70910acb991657ebd1",
       "version_major": 2,
       "version_minor": 0
      },
      "text/plain": [
       "Training:   0%|          | 0/1875 [00:00<?, ?it/s]"
      ]
     },
     "metadata": {},
     "output_type": "display_data"
    },
    {
     "data": {
      "application/vnd.jupyter.widget-view+json": {
       "model_id": "955792a1db774ed592a827edfca46ad4",
       "version_major": 2,
       "version_minor": 0
      },
      "text/plain": [
       "Testing:   0%|          | 0/313 [00:00<?, ?it/s]"
      ]
     },
     "metadata": {},
     "output_type": "display_data"
    },
    {
     "data": {
      "application/vnd.jupyter.widget-view+json": {
       "model_id": "4d88899f10d947899c5d2c2c2692100d",
       "version_major": 2,
       "version_minor": 0
      },
      "text/plain": [
       "Training:   0%|          | 0/1875 [00:00<?, ?it/s]"
      ]
     },
     "metadata": {},
     "output_type": "display_data"
    },
    {
     "data": {
      "application/vnd.jupyter.widget-view+json": {
       "model_id": "3f2a4eccf64c4844be03c25edb8beff3",
       "version_major": 2,
       "version_minor": 0
      },
      "text/plain": [
       "Testing:   0%|          | 0/313 [00:00<?, ?it/s]"
      ]
     },
     "metadata": {},
     "output_type": "display_data"
    },
    {
     "data": {
      "application/vnd.jupyter.widget-view+json": {
       "model_id": "bc65aafddafd4a88b5f05ece2551bb6e",
       "version_major": 2,
       "version_minor": 0
      },
      "text/plain": [
       "Training:   0%|          | 0/1875 [00:00<?, ?it/s]"
      ]
     },
     "metadata": {},
     "output_type": "display_data"
    },
    {
     "data": {
      "application/vnd.jupyter.widget-view+json": {
       "model_id": "10d884d0158a4d87a502b06a2a72676b",
       "version_major": 2,
       "version_minor": 0
      },
      "text/plain": [
       "Testing:   0%|          | 0/313 [00:00<?, ?it/s]"
      ]
     },
     "metadata": {},
     "output_type": "display_data"
    },
    {
     "data": {
      "application/vnd.jupyter.widget-view+json": {
       "model_id": "ab51aa118ccc402995bcc7adc648bdf3",
       "version_major": 2,
       "version_minor": 0
      },
      "text/plain": [
       "Training:   0%|          | 0/1875 [00:00<?, ?it/s]"
      ]
     },
     "metadata": {},
     "output_type": "display_data"
    },
    {
     "data": {
      "application/vnd.jupyter.widget-view+json": {
       "model_id": "5e951cb5122045e1a07601a74cc61476",
       "version_major": 2,
       "version_minor": 0
      },
      "text/plain": [
       "Testing:   0%|          | 0/313 [00:00<?, ?it/s]"
      ]
     },
     "metadata": {},
     "output_type": "display_data"
    },
    {
     "data": {
      "application/vnd.jupyter.widget-view+json": {
       "model_id": "c060ef8189374950add0af507bbb824e",
       "version_major": 2,
       "version_minor": 0
      },
      "text/plain": [
       "Training:   0%|          | 0/1875 [00:00<?, ?it/s]"
      ]
     },
     "metadata": {},
     "output_type": "display_data"
    },
    {
     "data": {
      "application/vnd.jupyter.widget-view+json": {
       "model_id": "017ddf8fcfe64b038fb25083daab2cac",
       "version_major": 2,
       "version_minor": 0
      },
      "text/plain": [
       "Testing:   0%|          | 0/313 [00:00<?, ?it/s]"
      ]
     },
     "metadata": {},
     "output_type": "display_data"
    },
    {
     "data": {
      "application/vnd.jupyter.widget-view+json": {
       "model_id": "df3ed7d34d464e86bff1f07124d1aa3c",
       "version_major": 2,
       "version_minor": 0
      },
      "text/plain": [
       "Training:   0%|          | 0/1875 [00:00<?, ?it/s]"
      ]
     },
     "metadata": {},
     "output_type": "display_data"
    },
    {
     "data": {
      "application/vnd.jupyter.widget-view+json": {
       "model_id": "535a4ac6440040d295bae2d1f6920cd1",
       "version_major": 2,
       "version_minor": 0
      },
      "text/plain": [
       "Testing:   0%|          | 0/313 [00:00<?, ?it/s]"
      ]
     },
     "metadata": {},
     "output_type": "display_data"
    },
    {
     "data": {
      "application/vnd.jupyter.widget-view+json": {
       "model_id": "16f30bb186bb4f40a38622316e342016",
       "version_major": 2,
       "version_minor": 0
      },
      "text/plain": [
       "Training:   0%|          | 0/1875 [00:00<?, ?it/s]"
      ]
     },
     "metadata": {},
     "output_type": "display_data"
    },
    {
     "data": {
      "application/vnd.jupyter.widget-view+json": {
       "model_id": "f697264b633c4c20a7fbcdca3ff87f7e",
       "version_major": 2,
       "version_minor": 0
      },
      "text/plain": [
       "Testing:   0%|          | 0/313 [00:00<?, ?it/s]"
      ]
     },
     "metadata": {},
     "output_type": "display_data"
    },
    {
     "data": {
      "application/vnd.jupyter.widget-view+json": {
       "model_id": "2d1530b638d140458dae3bda18d10a3c",
       "version_major": 2,
       "version_minor": 0
      },
      "text/plain": [
       "Training:   0%|          | 0/1875 [00:00<?, ?it/s]"
      ]
     },
     "metadata": {},
     "output_type": "display_data"
    },
    {
     "data": {
      "application/vnd.jupyter.widget-view+json": {
       "model_id": "3e2585c62c8c436a8fc95a7fba076a3b",
       "version_major": 2,
       "version_minor": 0
      },
      "text/plain": [
       "Testing:   0%|          | 0/313 [00:00<?, ?it/s]"
      ]
     },
     "metadata": {},
     "output_type": "display_data"
    },
    {
     "data": {
      "application/vnd.jupyter.widget-view+json": {
       "model_id": "382bdce5cb4d4e23a78c222a8a1c8b68",
       "version_major": 2,
       "version_minor": 0
      },
      "text/plain": [
       "Training:   0%|          | 0/1875 [00:00<?, ?it/s]"
      ]
     },
     "metadata": {},
     "output_type": "display_data"
    },
    {
     "data": {
      "application/vnd.jupyter.widget-view+json": {
       "model_id": "e59d87fe2908405fa076ca98b8c614d8",
       "version_major": 2,
       "version_minor": 0
      },
      "text/plain": [
       "Testing:   0%|          | 0/313 [00:00<?, ?it/s]"
      ]
     },
     "metadata": {},
     "output_type": "display_data"
    },
    {
     "data": {
      "application/vnd.jupyter.widget-view+json": {
       "model_id": "a03d315836604d06a197acefb2823990",
       "version_major": 2,
       "version_minor": 0
      },
      "text/plain": [
       "Training:   0%|          | 0/1875 [00:00<?, ?it/s]"
      ]
     },
     "metadata": {},
     "output_type": "display_data"
    },
    {
     "data": {
      "application/vnd.jupyter.widget-view+json": {
       "model_id": "db6a3f7f689541af9e02d00981bda920",
       "version_major": 2,
       "version_minor": 0
      },
      "text/plain": [
       "Testing:   0%|          | 0/313 [00:00<?, ?it/s]"
      ]
     },
     "metadata": {},
     "output_type": "display_data"
    },
    {
     "data": {
      "application/vnd.jupyter.widget-view+json": {
       "model_id": "fec76a7344d348a9b9b471d16912a444",
       "version_major": 2,
       "version_minor": 0
      },
      "text/plain": [
       "Training:   0%|          | 0/1875 [00:00<?, ?it/s]"
      ]
     },
     "metadata": {},
     "output_type": "display_data"
    },
    {
     "data": {
      "application/vnd.jupyter.widget-view+json": {
       "model_id": "1fdf24806f324b118f8123b69c2c36a9",
       "version_major": 2,
       "version_minor": 0
      },
      "text/plain": [
       "Testing:   0%|          | 0/313 [00:00<?, ?it/s]"
      ]
     },
     "metadata": {},
     "output_type": "display_data"
    },
    {
     "data": {
      "application/vnd.jupyter.widget-view+json": {
       "model_id": "824778e6a2654060939ef448a4f118f8",
       "version_major": 2,
       "version_minor": 0
      },
      "text/plain": [
       "Training:   0%|          | 0/1875 [00:00<?, ?it/s]"
      ]
     },
     "metadata": {},
     "output_type": "display_data"
    },
    {
     "data": {
      "application/vnd.jupyter.widget-view+json": {
       "model_id": "5b181ce3241743d1ac099ffa92f87e2f",
       "version_major": 2,
       "version_minor": 0
      },
      "text/plain": [
       "Testing:   0%|          | 0/313 [00:00<?, ?it/s]"
      ]
     },
     "metadata": {},
     "output_type": "display_data"
    },
    {
     "data": {
      "application/vnd.jupyter.widget-view+json": {
       "model_id": "d3ac58b0623f41ba89b1658812235a01",
       "version_major": 2,
       "version_minor": 0
      },
      "text/plain": [
       "Training:   0%|          | 0/1875 [00:00<?, ?it/s]"
      ]
     },
     "metadata": {},
     "output_type": "display_data"
    },
    {
     "data": {
      "application/vnd.jupyter.widget-view+json": {
       "model_id": "cbc3d1b57c474f94a752e088f788e8a7",
       "version_major": 2,
       "version_minor": 0
      },
      "text/plain": [
       "Testing:   0%|          | 0/313 [00:00<?, ?it/s]"
      ]
     },
     "metadata": {},
     "output_type": "display_data"
    },
    {
     "data": {
      "application/vnd.jupyter.widget-view+json": {
       "model_id": "351df0a2fad04eb98104113fa9d9f747",
       "version_major": 2,
       "version_minor": 0
      },
      "text/plain": [
       "Training:   0%|          | 0/1875 [00:00<?, ?it/s]"
      ]
     },
     "metadata": {},
     "output_type": "display_data"
    },
    {
     "data": {
      "application/vnd.jupyter.widget-view+json": {
       "model_id": "e312bdadee104be4a3fe6176bc73bcfa",
       "version_major": 2,
       "version_minor": 0
      },
      "text/plain": [
       "Testing:   0%|          | 0/313 [00:00<?, ?it/s]"
      ]
     },
     "metadata": {},
     "output_type": "display_data"
    },
    {
     "data": {
      "application/vnd.jupyter.widget-view+json": {
       "model_id": "368be5cc0b3f4c2aa4980a3f1ab700d6",
       "version_major": 2,
       "version_minor": 0
      },
      "text/plain": [
       "Training:   0%|          | 0/1875 [00:00<?, ?it/s]"
      ]
     },
     "metadata": {},
     "output_type": "display_data"
    },
    {
     "data": {
      "application/vnd.jupyter.widget-view+json": {
       "model_id": "91ffae33d2474710b68fa8b65e71f7c5",
       "version_major": 2,
       "version_minor": 0
      },
      "text/plain": [
       "Testing:   0%|          | 0/313 [00:00<?, ?it/s]"
      ]
     },
     "metadata": {},
     "output_type": "display_data"
    },
    {
     "data": {
      "application/vnd.jupyter.widget-view+json": {
       "model_id": "22b81f8d9438427c9171895a7526db24",
       "version_major": 2,
       "version_minor": 0
      },
      "text/plain": [
       "Training:   0%|          | 0/1875 [00:00<?, ?it/s]"
      ]
     },
     "metadata": {},
     "output_type": "display_data"
    },
    {
     "data": {
      "application/vnd.jupyter.widget-view+json": {
       "model_id": "20f8137329fd4727bce17f9a7a547bc4",
       "version_major": 2,
       "version_minor": 0
      },
      "text/plain": [
       "Testing:   0%|          | 0/313 [00:00<?, ?it/s]"
      ]
     },
     "metadata": {},
     "output_type": "display_data"
    }
   ],
   "source": [
    "loss_func = torch.nn.CrossEntropyLoss()\n",
    "cnn_results = train_simple_network(model_cnn, \n",
    "                                   loss_func, \n",
    "                                   mnist_train_loader, \n",
    "                                   test_loader=mnist_test_loader, \n",
    "                                   score_funcs={'Accuracy' : accuracy_score}, device=device, epochs=20)\n",
    "fc_results = train_simple_network(model_linear, \n",
    "                                   loss_func, \n",
    "                                   mnist_train_loader, \n",
    "                                   test_loader=mnist_test_loader, \n",
    "                                   score_funcs={'Accuracy' : accuracy_score}, device=device, epochs=20)"
   ]
  },
  {
   "cell_type": "code",
   "execution_count": 19,
   "metadata": {},
   "outputs": [
    {
     "data": {
      "text/plain": [
       "<AxesSubplot:xlabel='epoch', ylabel='test Accuracy'>"
      ]
     },
     "execution_count": 19,
     "metadata": {},
     "output_type": "execute_result"
    },
    {
     "data": {
      "image/png": "[encoded data removed]",
      "text/plain": [
       "<Figure size 432x288 with 1 Axes>"
      ]
     },
     "metadata": {
      "needs_background": "light"
     },
     "output_type": "display_data"
    }
   ],
   "source": [
    "sns.lineplot(x = 'epoch', y=\"test Accuracy\", data = cnn_results, label = \"CNN\")\n",
    "sns.lineplot(x = 'epoch', y=\"test Accuracy\", data = fc_results, label = \"FC\")"
   ]
  },
  {
   "attachments": {},
   "cell_type": "markdown",
   "metadata": {},
   "source": [
    "It can be seen that the CNN already performs better than the fully connected network after one epoch. The main reason for this is the convolution, which takes spatial dependence into account and captures it. One of the assumptions when using convolutions should always be that things located close to each other are related, and things far apart from each other aren't. This is the main advantage of convolutions and should be taken into consideration when modelling a problem."
   ]
  },
  {
   "attachments": {},
   "cell_type": "markdown",
   "metadata": {},
   "source": [
    "### Pooling Layer - How to improve CNNs\n",
    "One way to improve CNNs is by stacking convolutions on top of each other, seperated by nonlinear functions, or by introducing a pooling layer.\n",
    "\n",
    "Stacking more convolutions on top of each other makes the function space which can be fitted by the network larger and hence potentially more powerful (be aware of overfitting). However, the current network is not really robust. Instead, it searches for features at specific locations on the image. This means, if a '5' is rotated by a bit or moved on the potential surface (shifting by one pixel), we might loose accuracy, since the fully connected layer at the end is expecting certain values at a given input neuron. One can work around this issue by using pooling layers. For an example, which shows the problem of shifting see book page 100. The example shows that moving each pixel by only one pixel into a certain direction can give huge differences in the probability outcomes used for the classification (31.5% to 78.2%).\n",
    "\n",
    "In order to solve this issue, we want the property of a **translation invariant** function. This just means that shifting the input through space by a fixed amount in all directions, does not change the output. $\\rightarrow$ Pooling results in greater robustness.\n",
    "\n",
    "Pooling Layers create a partial invariance, since they only expect similiar values in the same area.\n",
    "When applying pooling, we also have a symmetric kernel size K, which applies a certain function (i.e. max) at the current position. Compared to convolutions, we are not sliding the kernel by only one, but by step K. The choice of how many pixels to slide is called stride. In convolutions this is typically 1 but in pooling layers this is typically k, and hence the output (feature map) of the kernel is shrinked by a factor K. \n",
    "\n",
    "In pytorch, when dealing with 2D images of shape (B,C,W,H), applying a max 2D Pooling results in the shape of (B,C, W/K, H/K) since the stride is equal to the filter size by default.\n",
    "\n",
    "*How do decide on the number of pooling layers?* \n",
    "\n",
    "Since each pooling layer shrinks the image by a factor K, one needs to think about appropriate sizes. For examples, a 28x28 image gets reduced to an image of 1.75x1.75 after just four round of pooling with $K=2$ $(28/2^4)=1.75$.\n",
    "\n",
    "*Why to use pooling?*\n",
    "* More robust network\n",
    "* Reduction of data sizes (by a factor of K)\n",
    "* Less params --> faster training\n",
    "\n",
    "*Where to do pooling?*\n",
    "\n",
    "If neither training time or image size is a problem, a common strategy is to increase the number of filters by K after every round of pooling, such that the number of weights roughly stays the same."
   ]
  },
  {
   "cell_type": "code",
   "execution_count": null,
   "metadata": {},
   "outputs": [],
   "source": [
    "model_cnn_pool = torch.nn.Sequential(\n",
    "    torch.nn.Conv2d(C, filters, 3, padding=3//2),\n",
    "    torch.nn.Tanh(),\n",
    "    \n",
    ")\n",
    "# i think I stopped at 3.5.1"
   ]
  },
  {
   "cell_type": "code",
   "execution_count": null,
   "metadata": {},
   "outputs": [],
   "source": []
  },
  {
   "attachments": {},
   "cell_type": "markdown",
   "metadata": {},
   "source": [
    "## Deeper Understaning of Convolutions\n",
    "\n",
    "Before continuing I would like to understand what the convolve function does.\n",
    "It (discrete convolution) is simply defined by \n",
    "$$(a*v)_n = \\sum_{m = -\\infty}^{\\infty}a_m v_{n-m}$$\n",
    "Where $N, M$ are the lengths of vector $a$ and $v$ respectively.\n",
    "The above formula tells us how to geht the n-th value of the convolution, of course a generalization to multiple dimensions is also possible. When doing a full convolution, the outputs will have size (N+M-1).\n",
    "\n",
    "Visually speaking, when doing a convolution on a one dimensional array, the second array is flipped, and then both arrays are slided across each other. The overlapping parts are multiplied and then summed.\n",
    "\n",
    "Therfore, given two vectors $a = (1,2)'$ and $v= (0,1)'$ a convolution of the two can be constructed. We first flip $v_f = (1,0)'$ then we slide them both across each other. \n",
    "Since we do a full convolution, the resulting convolution has the size $N+M-1$\n",
    "\n",
    "$$(a*v)_1 =\\\\\n",
    "(a*v)_2 \\\\\n",
    "(a*v)_3$$\n",
    "\n",
    "\n",
    " $n=(N+M-1)$ size\n",
    "$$(a*v)_1 = \\sum_{m = 1}^{2}a_m v_{1-m} = a_1 v_0 + a_2 v_1 = a_2 v_1 = 2\\cdot 0 = 0\\\\\n",
    "(a*v)_2 = \\sum_{m = 1}^{2}a_m v_{2-m} = a_1 v_ + a_2 v_0 \\\\\n",
    "(a*v)_3 = \\sum_{m = 1}^{2}a_m v_{3-m} = a_1 v_2 + a_2 v_1 = 1*1 + 2*0$$"
   ]
  },
  {
   "cell_type": "code",
   "execution_count": 33,
   "metadata": {},
   "outputs": [
    {
     "data": {
      "text/plain": [
       "array([0, 1, 2])"
      ]
     },
     "execution_count": 33,
     "metadata": {},
     "output_type": "execute_result"
    }
   ],
   "source": [
    "np.convolve([1, 2], [0, 1])\n"
   ]
  },
  {
   "cell_type": "markdown",
   "metadata": {},
   "source": []
  }
 ],
 "metadata": {
  "kernelspec": {
   "display_name": "base",
   "language": "python",
   "name": "python3"
  },
  "language_info": {
   "codemirror_mode": {
    "name": "ipython",
    "version": 3
   },
   "file_extension": ".py",
   "mimetype": "text/x-python",
   "name": "python",
   "nbconvert_exporter": "python",
   "pygments_lexer": "ipython3",
   "version": "3.8.13"
  },
  "orig_nbformat": 4
 },
 "nbformat": 4,
 "nbformat_minor": 2
}
