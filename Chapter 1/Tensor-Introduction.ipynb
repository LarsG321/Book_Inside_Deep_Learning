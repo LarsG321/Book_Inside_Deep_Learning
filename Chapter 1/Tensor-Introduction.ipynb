{
 "cells": [
  {
   "cell_type": "code",
   "execution_count": 93,
   "metadata": {},
   "outputs": [],
   "source": [
    "import torch\n",
    "import seaborn as sns\n",
    "import matplotlib.pyplot as plt\n",
    "\n",
    "torch_scalar = torch.tensor(3.14)\n",
    "torch_vector = torch.tensor([1, 2, 3, 4])\n",
    "torch_matrix = torch.tensor([[1, 2, ],\n",
    "                             [3, 4, ],\n",
    "                             [5, 6, ],\n",
    "                             [7, 8, ]])\n",
    "torch_tensor3d = torch.tensor([\n",
    "    [\n",
    "        [1, 2, 3],\n",
    "        [4, 5, 6],\n",
    "    ],\n",
    "    [\n",
    "        [7, 8, 9],\n",
    "        [10, 11, 12],\n",
    "    ],\n",
    "    [\n",
    "        [13, 14, 15],\n",
    "        [16, 17, 18],\n",
    "    ],\n",
    "    [\n",
    "        [19, 20, 21],\n",
    "        [22, 23, 24],\n",
    "    ]\n",
    "])\n",
    "\n",
    "# every time a list is nested into another list, we add another diemension "
   ]
  },
  {
   "cell_type": "code",
   "execution_count": 8,
   "metadata": {},
   "outputs": [
    {
     "data": {
      "text/plain": [
       "torch.Size([4, 2, 3])"
      ]
     },
     "execution_count": 8,
     "metadata": {},
     "output_type": "execute_result"
    }
   ],
   "source": [
    "torch_tensor3d.shape"
   ]
  },
  {
   "attachments": {},
   "cell_type": "markdown",
   "metadata": {},
   "source": [
    "We can also convert numpy to tensor"
   ]
  },
  {
   "cell_type": "code",
   "execution_count": 13,
   "metadata": {},
   "outputs": [
    {
     "name": "stdout",
     "output_type": "stream",
     "text": [
      "tensor([[0.0857, 0.6946, 0.0607, 0.6507],\n",
      "        [0.1724, 0.9027, 0.2018, 0.6479],\n",
      "        [0.3977, 0.7245, 0.9662, 0.7524],\n",
      "        [0.0373, 0.4417, 0.1277, 0.7542]], dtype=torch.float64)\n"
     ]
    }
   ],
   "source": [
    "import numpy as np\n",
    "x_np = np.random.random((4,4)) # 4x4 matrix\n",
    "# convert np matrix to tensor\n",
    "x_tensor = torch.tensor(x_np)\n",
    "print(x_tensor)\n",
    "# when using torch.tensor, torch takes the dtype of the input"
   ]
  },
  {
   "cell_type": "code",
   "execution_count": 14,
   "metadata": {},
   "outputs": [
    {
     "name": "stdout",
     "output_type": "stream",
     "text": [
      "float64 torch.float64\n"
     ]
    }
   ],
   "source": [
    "print(x_np.dtype, x_tensor.dtype)"
   ]
  },
  {
   "cell_type": "code",
   "execution_count": 15,
   "metadata": {},
   "outputs": [
    {
     "data": {
      "text/plain": [
       "tensor([[0.0857, 0.6946, 0.0607, 0.6507],\n",
       "        [0.1724, 0.9027, 0.2018, 0.6479],\n",
       "        [0.3977, 0.7245, 0.9662, 0.7524],\n",
       "        [0.0373, 0.4417, 0.1277, 0.7542]])"
      ]
     },
     "execution_count": 15,
     "metadata": {},
     "output_type": "execute_result"
    }
   ],
   "source": [
    "# cast the value to the float \n",
    "torch.tensor(x_np, dtype=torch.float32)"
   ]
  },
  {
   "attachments": {},
   "cell_type": "markdown",
   "metadata": {},
   "source": [
    "## Comparing CPU vs GPU performance on matrix multiplication"
   ]
  },
  {
   "cell_type": "code",
   "execution_count": 24,
   "metadata": {},
   "outputs": [
    {
     "name": "stdout",
     "output_type": "stream",
     "text": [
      "torch.Size([2048, 2048])\n"
     ]
    }
   ],
   "source": [
    "import timeit\n",
    "x = torch.rand(2**11, 2**11)\n",
    "print(x.shape)\n",
    "# doing it on the cpu\n",
    "time_cpu = timeit.timeit(\"x@x\", globals=globals(), number=100)"
   ]
  },
  {
   "cell_type": "code",
   "execution_count": 32,
   "metadata": {},
   "outputs": [
    {
     "name": "stdout",
     "output_type": "stream",
     "text": [
      "True\n"
     ]
    }
   ],
   "source": [
    "# doing it on the gpu\n",
    "print(torch.cuda.is_available()) # if true, cude is available\n",
    "device = torch.device(\"cuda\") # create reference to gpu\n",
    "\n",
    "# move x to the gpu\n",
    "x = x.to(device)\n",
    "time_gpu = timeit.timeit(\"x@x\", globals=globals(), number=100)"
   ]
  },
  {
   "cell_type": "code",
   "execution_count": 33,
   "metadata": {},
   "outputs": [
    {
     "name": "stdout",
     "output_type": "stream",
     "text": [
      "CPU time:  11.311850899999968 \n",
      "GPU time:  1.0788138000000345\n"
     ]
    }
   ],
   "source": [
    "print(\"CPU time: \", time_cpu, \"\\nGPU time: \", time_gpu)"
   ]
  },
  {
   "cell_type": "code",
   "execution_count": 35,
   "metadata": {},
   "outputs": [
    {
     "data": {
      "text/plain": [
       "array([[0.42272305, 0.7266976 , 0.10263491, ..., 0.28082168, 0.8599846 ,\n",
       "        0.33988428],\n",
       "       [0.9037032 , 0.7249599 , 0.13920534, ..., 0.12979019, 0.91330147,\n",
       "        0.7644448 ],\n",
       "       [0.05445975, 0.97781855, 0.5701904 , ..., 0.3954869 , 0.07081652,\n",
       "        0.64902115],\n",
       "       ...,\n",
       "       [0.28869182, 0.07162386, 0.0883581 , ..., 0.04194361, 0.2546708 ,\n",
       "        0.3390283 ],\n",
       "       [0.17911011, 0.55419594, 0.12728584, ..., 0.89835227, 0.27728236,\n",
       "        0.8851659 ],\n",
       "       [0.9822597 , 0.2720968 , 0.777319  , ..., 0.0232327 , 0.35091996,\n",
       "        0.79880726]], dtype=float32)"
      ]
     },
     "execution_count": 35,
     "metadata": {},
     "output_type": "execute_result"
    }
   ],
   "source": [
    "# convert x back to cpu and then numpy\n",
    "x.cpu().numpy()"
   ]
  },
  {
   "attachments": {},
   "cell_type": "markdown",
   "metadata": {},
   "source": [
    "## Automatic Differentation\n",
    "Pytorch can compute derivatives automatically for us."
   ]
  },
  {
   "cell_type": "code",
   "execution_count": 42,
   "metadata": {},
   "outputs": [
    {
     "data": {
      "text/plain": [
       "<AxesSubplot:>"
      ]
     },
     "execution_count": 42,
     "metadata": {},
     "output_type": "execute_result"
    },
    {
     "data": {
      "image/png": "[encoded data removed]",
      "text/plain": [
       "<Figure size 432x288 with 1 Axes>"
      ]
     },
     "metadata": {
      "needs_background": "light"
     },
     "output_type": "display_data"
    }
   ],
   "source": [
    "def f(x):\n",
    "    return torch.pow((x-2),2)\n",
    "\n",
    "x_axis_vals = np.linspace(-7,9,100)\n",
    "y_axis_vals = f(torch.tensor(x_axis_vals)).numpy()\n",
    "\n",
    "sns.lineplot(x = x_axis_vals,y= y_axis_vals, label = '$f(x)=(x-2)^2$')\n"
   ]
  },
  {
   "attachments": {},
   "cell_type": "markdown",
   "metadata": {},
   "source": [
    "Doing the differentation in pytorch with a small example."
   ]
  },
  {
   "cell_type": "code",
   "execution_count": 55,
   "metadata": {},
   "outputs": [
    {
     "name": "stdout",
     "output_type": "stream",
     "text": [
      "None\n",
      "tensor([30.2500], grad_fn=<PowBackward0>)\n"
     ]
    }
   ],
   "source": [
    "x = torch.tensor([-3.5], requires_grad=True) # requir_grad flag, tells pytorch to keep track of the gradient\n",
    "print(x.grad)\n",
    "value = f(x)\n",
    "print(value)"
   ]
  },
  {
   "attachments": {},
   "cell_type": "markdown",
   "metadata": {},
   "source": [
    "The first part tells us the result value i.e. the result of $(3.5-2)^2$. Since we keep track of the gradients, we can tell pytorch to go back in time."
   ]
  },
  {
   "cell_type": "code",
   "execution_count": 54,
   "metadata": {},
   "outputs": [
    {
     "name": "stdout",
     "output_type": "stream",
     "text": [
      "tensor([-11.])\n"
     ]
    }
   ],
   "source": [
    "value.backward() # computes the gradient wrt to the graph leaves\n",
    "print(x.grad) "
   ]
  },
  {
   "attachments": {},
   "cell_type": "markdown",
   "metadata": {},
   "source": [
    "The above value is the gradient for the value $x = -3.5$, hence it shows the value of the first derivative of the function $f(x)$ evaluated at $x=-3.5$. We can make the function $f(x)$ do almost everything as long as it is implemented using PyTorch functions.\n",
    "\n",
    "Next, we will use pytorch to find the minimum of the above function $f(x)$."
   ]
  },
  {
   "cell_type": "code",
   "execution_count": 63,
   "metadata": {},
   "outputs": [
    {
     "name": "stdout",
     "output_type": "stream",
     "text": [
      "tensor([2.0000])\n"
     ]
    }
   ],
   "source": [
    "# start with a guess\n",
    "x = torch.tensor([-3.5], requires_grad=True)\n",
    "x_cur = x.clone()\n",
    "x_prev = x_cur*100\n",
    "eps = 1e-10\n",
    "\n",
    "eta = 0.01 # learning rate\n",
    "\n",
    "# the while defines, when to stop the optimization\n",
    "while torch.linalg.norm(x_cur-x_prev)>eps:\n",
    "    x_prev = x_cur.clone()\n",
    "    value = f(x)\n",
    "    value.backward() # compute the gradient of f(x)\n",
    "    \n",
    "    # go a step\n",
    "    x.data -= eta*x.grad\n",
    "\n",
    "    x.grad.zero_() # after making the step, reset the gradient\n",
    "\n",
    "    x_cur = x.data\n",
    "\n",
    "print(x_cur)"
   ]
  },
  {
   "attachments": {},
   "cell_type": "markdown",
   "metadata": {},
   "source": [
    "## Parameters and Optimizers"
   ]
  },
  {
   "cell_type": "code",
   "execution_count": 73,
   "metadata": {},
   "outputs": [
    {
     "name": "stdout",
     "output_type": "stream",
     "text": [
      "tensor([2.0000])\n"
     ]
    }
   ],
   "source": [
    "x_param = torch.nn.Parameter(torch.tensor([-3.5]), requires_grad=True)\n",
    "optimizer = torch.optim.SGD([x_param], lr = eta) # optimizer keeps track on the param values\n",
    "\n",
    "# do the same as before, but do it for 20 epochs (how often does the dataset see the whole data?)\n",
    "for epoch in range(10000):\n",
    "    optimizer.zero_grad() # reset the gradients in the underyling params\n",
    "    loss = f(x_param)\n",
    "    # calculate gradient for the current value\n",
    "    loss.backward()\n",
    "\n",
    "    # go one step \n",
    "    optimizer.step() # Why does the optimizer know from the loss? since the loss uses the x_param, which is tracked by the optimizer.\n",
    "\n",
    "print(x_param.data)"
   ]
  },
  {
   "attachments": {},
   "cell_type": "markdown",
   "metadata": {},
   "source": [
    "## Loading a Dataset"
   ]
  },
  {
   "cell_type": "code",
   "execution_count": 75,
   "metadata": {},
   "outputs": [
    {
     "name": "stdout",
     "output_type": "stream",
     "text": [
      "(70000, 784)\n"
     ]
    }
   ],
   "source": [
    "from torch.utils.data import Dataset\n",
    "from sklearn.datasets import fetch_openml\n",
    "X,y = fetch_openml(\"mnist_784\", version=1, return_X_y=True)\n",
    "print(X.shape)"
   ]
  },
  {
   "attachments": {},
   "cell_type": "markdown",
   "metadata": {},
   "source": [
    "Next, we create a simple dataset subclassing the Dataset api. We need to implement the __getItem__ method which returns the data and label as a tuple. We also need to define the __len__ function which defines how large (item/samples) the dataset is. Only a minimal amount of work should be done in the constructor. The heavy lifting should be done in the __getitem__ function.  The advantage in placing it in the __getitem__ function is that Pytorch does the work on an \"as needed\" basis while waiting for the GPU to finish.\n",
    "Note that we will use torch.int64 for the targets because pytorch is hard coded to use int64 whenever needed. The below dataset keeps everything in memory."
   ]
  },
  {
   "cell_type": "code",
   "execution_count": 94,
   "metadata": {},
   "outputs": [
    {
     "name": "stdout",
     "output_type": "stream",
     "text": [
      "The dataset contains  70000  samples\n"
     ]
    },
    {
     "data": {
      "text/plain": [
       "<matplotlib.image.AxesImage at 0x2652ced1a90>"
      ]
     },
     "execution_count": 94,
     "metadata": {},
     "output_type": "execute_result"
    },
    {
     "data": {
      "image/png": "[encoded data removed]",
      "text/plain": [
       "<Figure size 432x288 with 1 Axes>"
      ]
     },
     "metadata": {
      "needs_background": "light"
     },
     "output_type": "display_data"
    }
   ],
   "source": [
    "class SimpleDataset(Dataset):\n",
    "    def __init__(self,X,y):\n",
    "        super(SimpleDataset, self).__init__()\n",
    "        self.X = X\n",
    "        self.y = y\n",
    "    \n",
    "    def __getitem__(self, index):\n",
    "        input = torch.tensor(self.X.iloc[index,:], dtype=torch.float32)\n",
    "        targets = torch.tensor(int(self.y[index]), dtype=torch.int64)\n",
    "        return input, targets\n",
    "    \n",
    "    def __len__(self):\n",
    "        return self.X.shape[0]\n",
    "    \n",
    "dataset = SimpleDataset(X,y)\n",
    "print('The dataset contains ' , len(dataset), ' samples')\n",
    "example, label = dataset[0]\n",
    "plt.imshow(example.reshape((28,28)))"
   ]
  },
  {
   "attachments": {},
   "cell_type": "markdown",
   "metadata": {},
   "source": [
    "Next, we want to create a train and test split of the data."
   ]
  },
  {
   "cell_type": "code",
   "execution_count": 98,
   "metadata": {},
   "outputs": [
    {
     "name": "stdout",
     "output_type": "stream",
     "text": [
      "56000\n"
     ]
    }
   ],
   "source": [
    "train_size = int(len(dataset)*0.8)\n",
    "test_size = len(dataset)- train_size\n",
    "\n",
    "train_data, test_data = torch.utils.data.random_split(dataset, (train_size,test_size))\n",
    "print(len(train_data))"
   ]
  },
  {
   "cell_type": "code",
   "execution_count": null,
   "metadata": {},
   "outputs": [],
   "source": []
  }
 ],
 "metadata": {
  "kernelspec": {
   "display_name": "base",
   "language": "python",
   "name": "python3"
  },
  "language_info": {
   "codemirror_mode": {
    "name": "ipython",
    "version": 3
   },
   "file_extension": ".py",
   "mimetype": "text/x-python",
   "name": "python",
   "nbconvert_exporter": "python",
   "pygments_lexer": "ipython3",
   "version": "3.9.12"
  },
  "orig_nbformat": 4,
  "vscode": {
   "interpreter": {
    "hash": "e5ff61e0bd924eb5951a5ebda66fd231846b676ebb29b4136ed0d031a5290f33"
   }
  }
 },
 "nbformat": 4,
 "nbformat_minor": 2
}
