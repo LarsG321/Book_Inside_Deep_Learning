{
 "cells": [
  {
   "cell_type": "code",
   "execution_count": 43,
   "metadata": {},
   "outputs": [],
   "source": [
    "import torch\n",
    "import numpy as np\n",
    "import timeit\n",
    "import matplotlib.pyplot as plt"
   ]
  },
  {
   "attachments": {},
   "cell_type": "markdown",
   "metadata": {},
   "source": [
    "## Exercise 1\n",
    "Write a series of for loops that the compute the average value in torch_tensor3d"
   ]
  },
  {
   "cell_type": "code",
   "execution_count": 15,
   "metadata": {},
   "outputs": [],
   "source": [
    "torch_tensor3d = torch.tensor([\n",
    "    [\n",
    "        [1, 2, 3],\n",
    "        [4, 5, 6],\n",
    "    ],\n",
    "    [\n",
    "        [7, 8, 9],\n",
    "        [10, 11, 12],\n",
    "    ],\n",
    "    [\n",
    "        [13, 14, 15],\n",
    "        [16, 17, 18],\n",
    "    ],\n",
    "    [\n",
    "        [19, 20, 21],\n",
    "        [22, 23, 24],\n",
    "    ]\n",
    "], dtype=torch.float32)"
   ]
  },
  {
   "cell_type": "code",
   "execution_count": 18,
   "metadata": {},
   "outputs": [
    {
     "name": "stdout",
     "output_type": "stream",
     "text": [
      "Element:  tensor([1., 2., 3.])\n",
      "Size of Input:  torch.Size([3])\n",
      "Average:  tensor(2.) \n",
      "\n",
      "Element:  tensor([4., 5., 6.])\n",
      "Size of Input:  torch.Size([3])\n",
      "Average:  tensor(5.) \n",
      "\n",
      "Element:  tensor([7., 8., 9.])\n",
      "Size of Input:  torch.Size([3])\n",
      "Average:  tensor(8.) \n",
      "\n",
      "Element:  tensor([10., 11., 12.])\n",
      "Size of Input:  torch.Size([3])\n",
      "Average:  tensor(11.) \n",
      "\n",
      "Element:  tensor([13., 14., 15.])\n",
      "Size of Input:  torch.Size([3])\n",
      "Average:  tensor(14.) \n",
      "\n",
      "Element:  tensor([16., 17., 18.])\n",
      "Size of Input:  torch.Size([3])\n",
      "Average:  tensor(17.) \n",
      "\n",
      "Element:  tensor([19., 20., 21.])\n",
      "Size of Input:  torch.Size([3])\n",
      "Average:  tensor(20.) \n",
      "\n",
      "Element:  tensor([22., 23., 24.])\n",
      "Size of Input:  torch.Size([3])\n",
      "Average:  tensor(23.) \n",
      "\n"
     ]
    }
   ],
   "source": [
    "for val in torch_tensor3d:\n",
    "    for elem in val:\n",
    "        print('Element: ', elem)\n",
    "        print('Size of Input: ', elem.shape)\n",
    "        print('Average: ', torch.mean(elem,0), '\\n')"
   ]
  },
  {
   "attachments": {},
   "cell_type": "markdown",
   "metadata": {},
   "source": [
    "## Exercise 2\n",
    "Write code taht indexes torch_tensor3d and prints out the value 13."
   ]
  },
  {
   "cell_type": "code",
   "execution_count": 27,
   "metadata": {},
   "outputs": [
    {
     "name": "stdout",
     "output_type": "stream",
     "text": [
      "Shape of tensor:  torch.Size([4, 2, 3])\n"
     ]
    },
    {
     "data": {
      "text/plain": [
       "array(13., dtype=float32)"
      ]
     },
     "execution_count": 27,
     "metadata": {},
     "output_type": "execute_result"
    }
   ],
   "source": [
    "print('Shape of tensor: ', torch_tensor3d.shape)\n",
    "torch_tensor3d[2,0,0].numpy()"
   ]
  },
  {
   "attachments": {},
   "cell_type": "markdown",
   "metadata": {},
   "source": [
    "## Exercise 3\n",
    "Compare matrix multiplicaton speeds for quadratic matrices."
   ]
  },
  {
   "cell_type": "code",
   "execution_count": 52,
   "metadata": {},
   "outputs": [
    {
     "name": "stdout",
     "output_type": "stream",
     "text": [
      "GPU is available:  True\n",
      "Calculating comparison for  1  dimensions\n",
      "Calculating comparison for  2  dimensions\n",
      "Calculating comparison for  3  dimensions\n",
      "Calculating comparison for  4  dimensions\n",
      "Calculating comparison for  5  dimensions\n",
      "Calculating comparison for  6  dimensions\n",
      "Calculating comparison for  7  dimensions\n",
      "Calculating comparison for  8  dimensions\n",
      "Calculating comparison for  9  dimensions\n",
      "Calculating comparison for  10  dimensions\n"
     ]
    }
   ],
   "source": [
    "dims = range(1,11)\n",
    "\n",
    "print(\"GPU is available: \", torch.cuda.is_available())\n",
    "device = torch.device(\"cuda\")\n",
    "\n",
    "cpu_times = []\n",
    "gpu_times = []\n",
    "for dim in dims:\n",
    "    print(\"Calculating comparison for \", dim, \" dimensions\")\n",
    "    # create matrix\n",
    "    X = torch.rand(2**dim, 2**dim, dtype = torch.float32)\n",
    "\n",
    "    # time cpu timing\n",
    "    cpu = timeit.timeit(\"X@X\", globals=globals(), number = 10)\n",
    "    cpu_times.append(cpu)\n",
    "\n",
    "    # time gpu timing\n",
    "    X = X.to(device)\n",
    "    gpu = timeit.timeit(\"X@X\", globals=globals(), number = 10)\n",
    "    gpu_times.append(gpu)\n"
   ]
  },
  {
   "cell_type": "code",
   "execution_count": 54,
   "metadata": {},
   "outputs": [
    {
     "data": {
      "text/plain": [
       "Text(0, 0.5, 'Avg. Runtime [s]')"
      ]
     },
     "execution_count": 54,
     "metadata": {},
     "output_type": "execute_result"
    },
    {
     "data": {
      "image/png": "[encoded data removed]",
      "text/plain": [
       "<Figure size 432x288 with 1 Axes>"
      ]
     },
     "metadata": {
      "needs_background": "light"
     },
     "output_type": "display_data"
    }
   ],
   "source": [
    "# plot the results\n",
    "plt.plot(dims, cpu_times, label = \"cpu time [s]\")\n",
    "plt.plot(dims, gpu_times, label = \"gpu time [s]\")\n",
    "plt.legend(loc=\"upper left\")\n",
    "plt.xlabel(\"Dim of Quadratic Matrix\")\n",
    "plt.ylabel(\"Avg. Runtime [s]\")"
   ]
  },
  {
   "attachments": {},
   "cell_type": "markdown",
   "metadata": {},
   "source": [
    "we can see that the GPU has an advantage in terms of speed if the quadratic matrix has more than 6 Dimensions and hence is larger than $6\\times6$.\n",
    "\n",
    "Does this also hold up for other matrices?"
   ]
  },
  {
   "cell_type": "code",
   "execution_count": 62,
   "metadata": {},
   "outputs": [
    {
     "name": "stdout",
     "output_type": "stream",
     "text": [
      "GPU is available:  True\n",
      "Calculating comparison for  1  dimensions\n",
      "Calculating comparison for  2  dimensions\n",
      "Calculating comparison for  3  dimensions\n",
      "Calculating comparison for  4  dimensions\n",
      "Calculating comparison for  5  dimensions\n",
      "Calculating comparison for  6  dimensions\n",
      "Calculating comparison for  7  dimensions\n",
      "Calculating comparison for  8  dimensions\n",
      "Calculating comparison for  9  dimensions\n",
      "Calculating comparison for  10  dimensions\n",
      "Calculating comparison for  11  dimensions\n",
      "Calculating comparison for  12  dimensions\n",
      "Calculating comparison for  13  dimensions\n",
      "Calculating comparison for  14  dimensions\n",
      "Calculating comparison for  15  dimensions\n",
      "Calculating comparison for  16  dimensions\n",
      "Calculating comparison for  17  dimensions\n",
      "Calculating comparison for  18  dimensions\n",
      "Calculating comparison for  19  dimensions\n"
     ]
    }
   ],
   "source": [
    "dims = range(1,20)\n",
    "\n",
    "print(\"GPU is available: \", torch.cuda.is_available())\n",
    "device = torch.device(\"cuda\")\n",
    "\n",
    "cpu_times = []\n",
    "gpu_times = []\n",
    "for dim in dims:\n",
    "    print(\"Calculating comparison for \", dim, \" dimensions\")\n",
    "    # create matrix\n",
    "    X = torch.rand(100, 2**dim, dtype = torch.float32)\n",
    "    Y = torch.transpose(X, 0,1)\n",
    "    \n",
    "    # time cpu timing\n",
    "    cpu = timeit.timeit(\"X@Y\", globals=globals(), number = 10)\n",
    "    cpu_times.append(cpu)\n",
    "\n",
    "    # time gpu timing\n",
    "    X = X.to(device)\n",
    "    Y = Y.to(device)\n",
    "    gpu = timeit.timeit(\"X@Y\", globals=globals(), number = 10)\n",
    "    gpu_times.append(gpu)\n"
   ]
  },
  {
   "cell_type": "code",
   "execution_count": 68,
   "metadata": {},
   "outputs": [
    {
     "data": {
      "text/plain": [
       "Text(0, 0.5, 'Avg. Runtime [s]')"
      ]
     },
     "execution_count": 68,
     "metadata": {},
     "output_type": "execute_result"
    },
    {
     "data": {
      "image/png": "[encoded data removed]",
      "text/plain": [
       "<Figure size 432x288 with 1 Axes>"
      ]
     },
     "metadata": {
      "needs_background": "light"
     },
     "output_type": "display_data"
    }
   ],
   "source": [
    "# plot the results\n",
    "plt.plot(dims, cpu_times, label = \"cpu time [s]\")\n",
    "plt.plot(dims, gpu_times, label = \"gpu time [s]\")\n",
    "plt.legend(loc=\"upper left\")\n",
    "plt.xlabel(\"Size Second Dim ($100 \\\\times x$)\")\n",
    "plt.ylabel(\"Avg. Runtime [s]\")"
   ]
  },
  {
   "attachments": {},
   "cell_type": "markdown",
   "metadata": {},
   "source": [
    "For the small toy example it is shown, that Cuda is faster after the second dimension is larger than 10."
   ]
  },
  {
   "attachments": {},
   "cell_type": "markdown",
   "metadata": {},
   "source": [
    "## Exercise 4 \n",
    "Write pytorch code that finds the minimum to a more complicated function, in particular \n",
    "$$f(x) = \\sin(x-2)\\cdot (x+2)^2 + \\sqrt{|\\cos(x)|}$$\n",
    "Note: To take advantage of the autograd mechanism, the function must be implemented solely using torch functions."
   ]
  },
  {
   "cell_type": "code",
   "execution_count": 77,
   "metadata": {},
   "outputs": [
    {
     "data": {
      "text/plain": [
       "[<matplotlib.lines.Line2D at 0x27f6d6f0370>]"
      ]
     },
     "execution_count": 77,
     "metadata": {},
     "output_type": "execute_result"
    },
    {
     "data": {
      "image/png": "[encoded data removed]",
      "text/plain": [
       "<Figure size 432x288 with 1 Axes>"
      ]
     },
     "metadata": {
      "needs_background": "light"
     },
     "output_type": "display_data"
    }
   ],
   "source": [
    "def f(x):\n",
    "    return torch.sin(x-2) * torch.pow(x+2, 2) + torch.sqrt(torch.abs(torch.cos(x)))\n",
    "\n",
    "x_range = np.linspace(-200,200, num = 1000)\n",
    "y_val = f(torch.tensor(x_range)).numpy()\n",
    "plt.plot(x_range,y_val)"
   ]
  },
  {
   "attachments": {},
   "cell_type": "markdown",
   "metadata": {},
   "source": [
    "The plot shows, that the function has no minimum. However, I will still try to find the minimum with pytorch."
   ]
  },
  {
   "cell_type": "code",
   "execution_count": 94,
   "metadata": {},
   "outputs": [
    {
     "name": "stdout",
     "output_type": "stream",
     "text": [
      "tensor([-2.0299])\n"
     ]
    }
   ],
   "source": [
    "# create a parameters, which should be tracked by the optimizer\n",
    "param = torch.nn.Parameter(torch.tensor([0.5]), requires_grad =True)\n",
    "optimizer = torch.optim.SGD(params=[param], lr = 0.3)\n",
    "epochs = 100\n",
    "\n",
    "for e in range(epochs):\n",
    "    # reset the gradient\n",
    "    optimizer.zero_grad()\n",
    "\n",
    "    # calculate loss\n",
    "    loss = f(param)\n",
    "    # calculate gradient\n",
    "    loss.backward()\n",
    "\n",
    "    # go a step in the descending direction\n",
    "    optimizer.step()\n",
    "\n",
    "print(param.data)"
   ]
  },
  {
   "attachments": {},
   "cell_type": "markdown",
   "metadata": {},
   "source": [
    "Depending on the learning rate, the above code leads to different outputs, because we are trapped in a local minimum. "
   ]
  },
  {
   "cell_type": "markdown",
   "metadata": {},
   "source": []
  }
 ],
 "metadata": {
  "kernelspec": {
   "display_name": "base",
   "language": "python",
   "name": "python3"
  },
  "language_info": {
   "codemirror_mode": {
    "name": "ipython",
    "version": 3
   },
   "file_extension": ".py",
   "mimetype": "text/x-python",
   "name": "python",
   "nbconvert_exporter": "python",
   "pygments_lexer": "ipython3",
   "version": "3.8.13"
  },
  "orig_nbformat": 4,
  "vscode": {
   "interpreter": {
    "hash": "1df77b8e54249bd7854f5f7f014c30ab8cead183b41ac0455e37716038a4ec26"
   }
  }
 },
 "nbformat": 4,
 "nbformat_minor": 2
}
